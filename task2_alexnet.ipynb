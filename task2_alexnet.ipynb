{
 "cells": [
  {
   "cell_type": "markdown",
   "metadata": {
    "nbpresent": {
     "id": "1d234e3f-af8b-4757-83f3-241b04b7a511"
    }
   },
   "source": [
    "# Class Challenge: Image Classification of COVID-19 X-rays\n",
    "# Task 2 [Total points: 30]"
   ]
  },
  {
   "cell_type": "markdown",
   "metadata": {
    "nbpresent": {
     "id": "b07b9992-b592-4871-9f9a-3b0ae5fa8b5f"
    }
   },
   "source": [
    "## Setup\n",
    "\n",
    "* This assignment involves the following packages: 'matplotlib', 'numpy', and 'sklearn'. \n",
    "\n",
    "* If you are using conda, use the following commands to install the above packages:<br>\n",
    "```shell\n",
    "conda install matplotlib\n",
    "conda install numpy\n",
    "conda install -c anaconda scikit-learn\n",
    "```\n",
    "\n",
    "* If you are using pip, use use the following commands to install the above packages: <br> \n",
    "```shell\n",
    "pip install matplotlib\n",
    "pip install numpy\n",
    "pip install sklearn\n",
    "```"
   ]
  },
  {
   "cell_type": "markdown",
   "metadata": {
    "nbpresent": {
     "id": "5516f610-f00c-43c3-bf19-4cf7ab9c089f"
    }
   },
   "source": [
    "## Data\n",
    "\n",
    "Please download the data using the following link: [COVID-19](https://drive.google.com/file/d/1Y88tgqpQ1Pjko_7rntcPowOJs_QNOrJ-/view). \n",
    "\n",
    "* After downloading 'Covid_Data_GradientCrescent.zip', unzip the file and you should see the following data structure:\n",
    "\n",
    "\n",
    "|--all<br>\n",
    "|--------train<br>\n",
    "|--------test<br>\n",
    "|--two<br>\n",
    "|--------train<br>\n",
    "|--------test<br>\n",
    "\n",
    "\n",
    "* Put the 'all' folder, the 'two' folder and this python notebook in the **same directory** so that the following code can correctly locate the data.  \n",
    "\n"
   ]
  },
  {
   "cell_type": "markdown",
   "metadata": {
    "nbpresent": {
     "id": "66140980-2aa4-457f-b1df-74c10c234cc2"
    }
   },
   "source": [
    "## [20 points] Multi-class Classification"
   ]
  },
  {
   "cell_type": "code",
   "execution_count": 6,
   "metadata": {
    "nbpresent": {
     "id": "5e05f980-3d14-4367-b3d1-664249145b13"
    },
    "scrolled": true
   },
   "outputs": [
    {
     "data": {
      "text/plain": [
       "'2.4.0-rc0'"
      ]
     },
     "execution_count": 6,
     "metadata": {},
     "output_type": "execute_result"
    }
   ],
   "source": [
    "import os\n",
    "\n",
    "import tensorflow as tf\n",
    "import numpy as np\n",
    "import matplotlib.pyplot as plt\n",
    "from tensorflow.keras.preprocessing.image import ImageDataGenerator\n",
    "from tensorflow.keras.applications.vgg16 import VGG16\n",
    "from tensorflow.keras.layers import Dense, Activation, Flatten, Dropout, Reshape, Conv2D, MaxPool2D, BatchNormalization\n",
    "from tensorflow.keras import regularizers\n",
    "\n",
    "os.environ['OMP_NUM_THREADS'] = '1'\n",
    "os.environ['CUDA_VISIBLE_DEVICES'] = '-1'\n",
    "tf.__version__"
   ]
  },
  {
   "cell_type": "markdown",
   "metadata": {
    "nbpresent": {
     "id": "66140980-2aa4-457f-b1df-74c10c234cc2"
    }
   },
   "source": [
    "#### Load Image Data"
   ]
  },
  {
   "cell_type": "code",
   "execution_count": 11,
   "metadata": {
    "nbpresent": {
     "id": "58317664-8da3-4283-b3e5-35721687e7ab"
    }
   },
   "outputs": [],
   "source": [
    "DATA_LIST = os.listdir('all/train')\n",
    "DATASET_PATH  = 'all/train'\n",
    "TEST_DIR =  'all/test'\n",
    "IMAGE_SIZE    = (224, 224)\n",
    "NUM_CLASSES   = len(DATA_LIST)\n",
    "BATCH_SIZE    = 10  # try reducing batch size or freeze more layers if your GPU runs out of memory\n",
    "NUM_EPOCHS    = 40 \n",
    "LEARNING_RATE = 0.001 # start off with high rate first 0.001 and experiment with reducing it gradually "
   ]
  },
  {
   "cell_type": "markdown",
   "metadata": {
    "nbpresent": {
     "id": "66140980-2aa4-457f-b1df-74c10c234cc2"
    }
   },
   "source": [
    "#### Generate Training and Validation Batches"
   ]
  },
  {
   "cell_type": "code",
   "execution_count": 8,
   "metadata": {
    "nbpresent": {
     "id": "71760e29-2b08-4259-93f1-ebe68cd74a6d"
    }
   },
   "outputs": [
    {
     "name": "stdout",
     "output_type": "stream",
     "text": [
      "Found 215 images belonging to 4 classes.\n",
      "Found 52 images belonging to 4 classes.\n"
     ]
    }
   ],
   "source": [
    "train_datagen = ImageDataGenerator(rescale=1./255,rotation_range=50,featurewise_center = True,\n",
    "                                   featurewise_std_normalization = True,width_shift_range=0.2,\n",
    "                                   height_shift_range=0.2,shear_range=0.25,zoom_range=0.1,\n",
    "                                   zca_whitening = True,channel_shift_range = 20,\n",
    "                                   horizontal_flip = True,vertical_flip = True,\n",
    "                                   validation_split = 0.2,fill_mode='constant')\n",
    "\n",
    "\n",
    "train_batches = train_datagen.flow_from_directory(DATASET_PATH,target_size=IMAGE_SIZE,\n",
    "                                                  shuffle=True,batch_size=BATCH_SIZE,\n",
    "                                                  subset = \"training\",seed=42,\n",
    "                                                  class_mode=\"categorical\")\n",
    "\n",
    "valid_batches = train_datagen.flow_from_directory(DATASET_PATH,target_size=IMAGE_SIZE,\n",
    "                                                  shuffle=True,batch_size=BATCH_SIZE,\n",
    "                                                  subset = \"validation\",\n",
    "                                                  seed=42,class_mode=\"categorical\")"
   ]
  },
  {
   "cell_type": "markdown",
   "metadata": {
    "nbpresent": {
     "id": "66140980-2aa4-457f-b1df-74c10c234cc2"
    }
   },
   "source": [
    "#### [10 points] Build Model\n",
    "Hint: Starting from a pre-trained model typically helps performance on a new task, e.g. starting with weights obtained by training on ImageNet. "
   ]
  },
  {
   "cell_type": "code",
   "execution_count": 10,
   "metadata": {
    "nbpresent": {
     "id": "5c52eeb2-1092-4d45-9e16-02219c82cb5e"
    }
   },
   "outputs": [
    {
     "name": "stdout",
     "output_type": "stream",
     "text": [
      "Model: \"sequential_1\"\n",
      "_________________________________________________________________\n",
      "Layer (type)                 Output Shape              Param #   \n",
      "=================================================================\n",
      "vgg16 (Functional)           (None, 7, 7, 512)         14714688  \n",
      "_________________________________________________________________\n",
      "conv2d_5 (Conv2D)            (None, 7, 7, 96)          442464    \n",
      "_________________________________________________________________\n",
      "batch_normalization_5 (Batch (None, 7, 7, 96)          384       \n",
      "_________________________________________________________________\n",
      "activation_5 (Activation)    (None, 7, 7, 96)          0         \n",
      "_________________________________________________________________\n",
      "max_pooling2d_3 (MaxPooling2 (None, 3, 3, 96)          0         \n",
      "_________________________________________________________________\n",
      "conv2d_6 (Conv2D)            (None, 3, 3, 256)         221440    \n",
      "_________________________________________________________________\n",
      "batch_normalization_6 (Batch (None, 3, 3, 256)         1024      \n",
      "_________________________________________________________________\n",
      "activation_6 (Activation)    (None, 3, 3, 256)         0         \n",
      "_________________________________________________________________\n",
      "max_pooling2d_4 (MaxPooling2 (None, 1, 1, 256)         0         \n",
      "_________________________________________________________________\n",
      "conv2d_7 (Conv2D)            (None, 1, 1, 384)         885120    \n",
      "_________________________________________________________________\n",
      "batch_normalization_7 (Batch (None, 1, 1, 384)         1536      \n",
      "_________________________________________________________________\n",
      "activation_7 (Activation)    (None, 1, 1, 384)         0         \n",
      "_________________________________________________________________\n",
      "conv2d_8 (Conv2D)            (None, 1, 1, 384)         1327488   \n",
      "_________________________________________________________________\n",
      "batch_normalization_8 (Batch (None, 1, 1, 384)         1536      \n",
      "_________________________________________________________________\n",
      "activation_8 (Activation)    (None, 1, 1, 384)         0         \n",
      "_________________________________________________________________\n",
      "conv2d_9 (Conv2D)            (None, 1, 1, 256)         884992    \n",
      "_________________________________________________________________\n",
      "batch_normalization_9 (Batch (None, 1, 1, 256)         1024      \n",
      "_________________________________________________________________\n",
      "activation_9 (Activation)    (None, 1, 1, 256)         0         \n",
      "_________________________________________________________________\n",
      "flatten (Flatten)            (None, 256)               0         \n",
      "_________________________________________________________________\n",
      "dense (Dense)                (None, 128)               32896     \n",
      "_________________________________________________________________\n",
      "dropout (Dropout)            (None, 128)               0         \n",
      "_________________________________________________________________\n",
      "dense_1 (Dense)              (None, 4)                 516       \n",
      "=================================================================\n",
      "Total params: 18,515,108\n",
      "Trainable params: 18,512,356\n",
      "Non-trainable params: 2,752\n",
      "_________________________________________________________________\n"
     ]
    }
   ],
   "source": [
    "model = tf.keras.models.Sequential()\n",
    "model.add(VGG16(weights='imagenet', input_shape=(224, 224, 3), include_top=False))\n",
    "\n",
    "model.add(Conv2D(96, (3,3), padding='same', activation='relu'))\n",
    "model.add(BatchNormalization())\n",
    "model.add(Activation('relu'))\n",
    "model.add(MaxPool2D(pool_size=(2,2)))\n",
    "\n",
    "model.add(Conv2D(256, (3,3), padding='same', activation='relu'))\n",
    "model.add(BatchNormalization())\n",
    "model.add(Activation('relu'))\n",
    "model.add(MaxPool2D(pool_size=(2,2)))\n",
    "\n",
    "model.add(Conv2D(384, (3,3), padding='same', activation='relu'))\n",
    "model.add(BatchNormalization())\n",
    "model.add(Activation('relu'))\n",
    "\n",
    "model.add(Conv2D(384, (3,3), padding='same', activation='relu'))\n",
    "model.add(BatchNormalization())\n",
    "model.add(Activation('relu'))\n",
    "\n",
    "model.add(Conv2D(256, (3,3), padding='same', activation='relu'))\n",
    "model.add(BatchNormalization())\n",
    "model.add(Activation('relu'))\n",
    "\n",
    "model.add(Flatten())\n",
    "model.add(Dense(128, activation='relu'))\n",
    "model.add(Dropout(.4))\n",
    "model.add(Dense(4, activation='relu'))\n",
    "model.summary()\n",
    "\n",
    "model.compile(optimizer='adam',\n",
    "                loss=tf.keras.losses.CategoricalCrossentropy(),\n",
    "                metrics=['accuracy'])"
   ]
  },
  {
   "cell_type": "markdown",
   "metadata": {
    "nbpresent": {
     "id": "66140980-2aa4-457f-b1df-74c10c234cc2"
    }
   },
   "source": [
    "#### [5 points] Train Model"
   ]
  },
  {
   "cell_type": "code",
   "execution_count": null,
   "metadata": {
    "nbpresent": {
     "id": "cdb90d24-6a23-4969-8138-f37e7050062d"
    }
   },
   "outputs": [
    {
     "name": "stdout",
     "output_type": "stream",
     "text": [
      "22\n",
      "6\n"
     ]
    },
    {
     "name": "stderr",
     "output_type": "stream",
     "text": [
      "/Users/syipchoy/miniforge3/envs/apple_tensorflow/lib/python3.8/site-packages/keras_preprocessing/image/image_data_generator.py:720: UserWarning: This ImageDataGenerator specifies `featurewise_center`, but it hasn't been fit on any training data. Fit it first by calling `.fit(numpy_data)`.\n",
      "  warnings.warn('This ImageDataGenerator specifies '\n",
      "/Users/syipchoy/miniforge3/envs/apple_tensorflow/lib/python3.8/site-packages/keras_preprocessing/image/image_data_generator.py:739: UserWarning: This ImageDataGenerator specifies `zca_whitening`, but it hasn't been fit on any training data. Fit it first by calling `.fit(numpy_data)`.\n",
      "  warnings.warn('This ImageDataGenerator specifies '\n",
      "2021-12-05 19:19:07.199471: I tensorflow/compiler/mlir/mlir_graph_optimization_pass.cc:116] None of the MLIR optimization passes are enabled (registered 2)\n",
      "2021-12-05 19:19:07.199602: W tensorflow/core/platform/profile_utils/cpu_utils.cc:126] Failed to get CPU frequency: 0 Hz\n"
     ]
    },
    {
     "name": "stdout",
     "output_type": "stream",
     "text": [
      "Epoch 1/40\n",
      "WARNING:tensorflow:AutoGraph could not transform <function Model.make_train_function.<locals>.train_function at 0x29a4943a0> and will run it as-is.\n",
      "Please report this to the TensorFlow team. When filing the bug, set the verbosity to 10 (on Linux, `export AUTOGRAPH_VERBOSITY=10`) and attach the full output.\n",
      "Cause: unsupported operand type(s) for -: 'NoneType' and 'int'\n",
      "To silence this warning, decorate the function with @tf.autograph.experimental.do_not_convert\n",
      "WARNING: AutoGraph could not transform <function Model.make_train_function.<locals>.train_function at 0x29a4943a0> and will run it as-is.\n",
      "Please report this to the TensorFlow team. When filing the bug, set the verbosity to 10 (on Linux, `export AUTOGRAPH_VERBOSITY=10`) and attach the full output.\n",
      "Cause: unsupported operand type(s) for -: 'NoneType' and 'int'\n",
      "To silence this warning, decorate the function with @tf.autograph.experimental.do_not_convert\n",
      " 9/21 [===========>..................] - ETA: 24s - loss: nan - accuracy: 0.2248"
     ]
    }
   ],
   "source": [
    "#FIT MODEL\n",
    "print(len(train_batches))\n",
    "print(len(valid_batches))\n",
    "\n",
    "STEP_SIZE_TRAIN=train_batches.n//train_batches.batch_size\n",
    "STEP_SIZE_VALID=valid_batches.n//valid_batches.batch_size\n",
    "\n",
    "history = model.fit(train_batches, steps_per_epoch=STEP_SIZE_TRAIN, validation_data = valid_batches, \n",
    "                             validation_steps = STEP_SIZE_VALID, epochs = NUM_EPOCHS)"
   ]
  },
  {
   "cell_type": "markdown",
   "metadata": {
    "nbpresent": {
     "id": "66140980-2aa4-457f-b1df-74c10c234cc2"
    }
   },
   "source": [
    "#### [5 points] Plot Accuracy and Loss During Training"
   ]
  },
  {
   "cell_type": "code",
   "execution_count": 26,
   "metadata": {
    "nbpresent": {
     "id": "ff342098-784a-4e20-ac34-b74ca8ebe839"
    }
   },
   "outputs": [
    {
     "data": {
      "text/plain": [
       "<matplotlib.legend.Legend at 0x2f1a63a60>"
      ]
     },
     "execution_count": 26,
     "metadata": {},
     "output_type": "execute_result"
    },
    {
     "data": {
      "image/png": "[encoded data removed]",
      "text/plain": [
       "<Figure size 432x288 with 1 Axes>"
      ]
     },
     "metadata": {
      "needs_background": "light"
     },
     "output_type": "display_data"
    }
   ],
   "source": [
    "import matplotlib.pyplot as plt\n",
    "\n",
    "plt.plot(history.history['accuracy'], label='accuracy')\n",
    "plt.plot(history.history['val_accuracy'], label = 'validation accuracy')\n",
    "plt.title(\"Accuracy over Epochs\")\n",
    "plt.xlabel('Epoch')\n",
    "plt.ylabel('Accuracy')\n",
    "plt.ylim([0, .65])\n",
    "plt.legend(loc='lower right')"
   ]
  },
  {
   "cell_type": "code",
   "execution_count": 15,
   "metadata": {},
   "outputs": [
    {
     "data": {
      "text/plain": [
       "<matplotlib.legend.Legend at 0x368934910>"
      ]
     },
     "execution_count": 15,
     "metadata": {},
     "output_type": "execute_result"
    },
    {
     "data": {
      "image/png": "[encoded data removed]",
      "text/plain": [
       "<Figure size 432x288 with 1 Axes>"
      ]
     },
     "metadata": {
      "needs_background": "light"
     },
     "output_type": "display_data"
    }
   ],
   "source": [
    "plt.plot(history.history['loss'], label='accuracy')\n",
    "plt.plot(history.history['val_loss'], label = 'validation accuracy')\n",
    "plt.title(\"Loss over Epochs\")\n",
    "plt.xlabel('Epoch')\n",
    "plt.ylabel('Loss')\n",
    "plt.ylim([0, 2])\n",
    "plt.legend(loc='lower right')"
   ]
  },
  {
   "cell_type": "markdown",
   "metadata": {
    "nbpresent": {
     "id": "66140980-2aa4-457f-b1df-74c10c234cc2"
    }
   },
   "source": [
    "#### Testing Model"
   ]
  },
  {
   "cell_type": "code",
   "execution_count": 16,
   "metadata": {},
   "outputs": [
    {
     "name": "stdout",
     "output_type": "stream",
     "text": [
      "Found 36 images belonging to 4 classes.\n",
      "36\n"
     ]
    },
    {
     "name": "stderr",
     "output_type": "stream",
     "text": [
      "/Users/syipchoy/miniforge3/envs/apple_tensorflow/lib/python3.8/site-packages/tensorflow/python/keras/engine/training.py:1877: UserWarning: `Model.evaluate_generator` is deprecated and will be removed in a future version. Please use `Model.evaluate`, which supports generators.\n",
      "  warnings.warn('`Model.evaluate_generator` is deprecated and '\n"
     ]
    },
    {
     "name": "stdout",
     "output_type": "stream",
     "text": [
      "36/36 [==============================] - 2s 51ms/step - loss: 1.3884 - accuracy: 0.2500\n",
      "Test loss: 1.3884371519088745\n",
      "Test accuracy: 0.25\n"
     ]
    }
   ],
   "source": [
    "test_datagen = ImageDataGenerator(rescale=1. / 255)\n",
    "\n",
    "eval_generator = test_datagen.flow_from_directory(TEST_DIR,target_size=IMAGE_SIZE,\n",
    "                                                  batch_size=1,shuffle=True,seed=42,class_mode=\"categorical\")\n",
    "eval_generator.reset()\n",
    "print(len(eval_generator))\n",
    "x = model.evaluate_generator(eval_generator,steps = np.ceil(len(eval_generator)),\n",
    "                           use_multiprocessing = False,verbose = 1,workers=1)\n",
    "print('Test loss:' , x[0])\n",
    "print('Test accuracy:',x[1])"
   ]
  },
  {
   "cell_type": "markdown",
   "metadata": {
    "nbpresent": {
     "id": "66140980-2aa4-457f-b1df-74c10c234cc2"
    }
   },
   "source": [
    "## [10 points] TSNE Plot\n",
    "t-Distributed Stochastic Neighbor Embedding (t-SNE) is a widely used technique for dimensionality reduction that is particularly well suited for the visualization of high-dimensional datasets. After training is complete, extract features from a specific deep layer of your choice, use t-SNE to reduce the dimensionality of your extracted features to 2 dimensions and plot the resulting 2D features."
   ]
  },
  {
   "cell_type": "code",
   "execution_count": 23,
   "metadata": {},
   "outputs": [
    {
     "name": "stdout",
     "output_type": "stream",
     "text": [
      "Found 267 images belonging to 4 classes.\n",
      "WARNING:tensorflow:AutoGraph could not transform <function Model.make_predict_function.<locals>.predict_function at 0x14eabc700> and will run it as-is.\n",
      "Please report this to the TensorFlow team. When filing the bug, set the verbosity to 10 (on Linux, `export AUTOGRAPH_VERBOSITY=10`) and attach the full output.\n",
      "Cause: unsupported operand type(s) for -: 'NoneType' and 'int'\n",
      "To silence this warning, decorate the function with @tf.autograph.experimental.do_not_convert\n",
      "WARNING: AutoGraph could not transform <function Model.make_predict_function.<locals>.predict_function at 0x14eabc700> and will run it as-is.\n",
      "Please report this to the TensorFlow team. When filing the bug, set the verbosity to 10 (on Linux, `export AUTOGRAPH_VERBOSITY=10`) and attach the full output.\n",
      "Cause: unsupported operand type(s) for -: 'NoneType' and 'int'\n",
      "To silence this warning, decorate the function with @tf.autograph.experimental.do_not_convert\n"
     ]
    },
    {
     "name": "stderr",
     "output_type": "stream",
     "text": [
      "/Users/syipchoy/miniforge3/envs/apple_tensorflow/lib/python3.8/site-packages/sklearn/manifold/_t_sne.py:780: FutureWarning: The default initialization in TSNE will change from 'random' to 'pca' in 1.2.\n",
      "  warnings.warn(\n",
      "/Users/syipchoy/miniforge3/envs/apple_tensorflow/lib/python3.8/site-packages/sklearn/manifold/_t_sne.py:790: FutureWarning: The default learning rate in TSNE will change from 200.0 to 'auto' in 1.2.\n",
      "  warnings.warn(\n"
     ]
    },
    {
     "data": {
      "text/plain": [
       "array([[ 3.3564472 , -0.46480545],\n",
       "       [ 3.3506005 , -0.8937428 ],\n",
       "       [ 1.9212035 , -2.1210244 ],\n",
       "       [ 1.4971378 ,  0.44313496],\n",
       "       [ 1.5094049 ,  0.44458097],\n",
       "       [ 0.8489593 , -0.11197355],\n",
       "       [ 2.5558875 , -1.2312726 ],\n",
       "       [ 2.3884325 ,  0.35766405],\n",
       "       [ 1.4921112 ,  0.44924664],\n",
       "       [ 2.8197336 , -0.41573235],\n",
       "       [ 2.0615168 ,  0.43790388],\n",
       "       [ 0.8657206 , -1.9236418 ],\n",
       "       [ 1.0131537 ,  0.1798868 ],\n",
       "       [ 1.1375914 , -1.4147915 ],\n",
       "       [ 0.8656784 , -1.9236187 ],\n",
       "       [ 0.7577227 , -0.6578814 ],\n",
       "       [ 2.2862623 , -1.4388489 ],\n",
       "       [ 2.537416  ,  0.24470086],\n",
       "       [ 0.9126706 ,  0.7230594 ],\n",
       "       [ 2.073244  ,  0.4440867 ],\n",
       "       [ 3.1033342 , -1.4261485 ],\n",
       "       [ 1.6712347 ,  1.000063  ],\n",
       "       [ 0.8413807 , -0.11496334],\n",
       "       [ 2.3870115 ,  0.36164245],\n",
       "       [ 0.88447356, -1.1555241 ],\n",
       "       [ 0.87600845, -1.137261  ],\n",
       "       [ 0.7739799 , -0.3217722 ],\n",
       "       [ 1.3832866 , -2.1529512 ],\n",
       "       [ 0.97801995,  0.7919163 ],\n",
       "       [ 2.7704446 , -1.7531788 ],\n",
       "       [ 0.88521093, -1.1580145 ],\n",
       "       [ 2.759036  , -0.8804063 ],\n",
       "       [ 3.3601549 , -0.47348326],\n",
       "       [ 1.6386302 , -1.5760204 ],\n",
       "       [ 3.1160724 ,  0.50680715],\n",
       "       [ 0.7577231 , -0.6578817 ],\n",
       "       [ 1.8209628 ,  0.49525216],\n",
       "       [ 2.2489798 , -2.0577605 ],\n",
       "       [ 0.8844731 , -1.155524  ],\n",
       "       [ 0.27399495, -1.229033  ],\n",
       "       [ 3.2841759 , -1.107523  ],\n",
       "       [ 0.37792736,  0.18186294],\n",
       "       [ 0.25476134, -0.19047952],\n",
       "       [ 2.8067827 , -1.7231175 ],\n",
       "       [ 2.8197384 , -0.41577733],\n",
       "       [ 2.5548968 , -1.2355291 ],\n",
       "       [ 2.5225656 , -1.9505975 ],\n",
       "       [ 0.8852083 , -1.1580145 ],\n",
       "       [ 1.6159225 , -1.5733867 ],\n",
       "       [ 2.387025  ,  0.36163515],\n",
       "       [ 3.3549309 , -0.47842863],\n",
       "       [ 1.1515257 ,  0.2931858 ],\n",
       "       [ 0.6897189 ,  0.5360001 ],\n",
       "       [ 2.7998765 , -0.31684107],\n",
       "       [ 1.6372769 , -1.5751398 ],\n",
       "       [ 0.75878215, -0.7101049 ],\n",
       "       [ 2.0884857 , -1.5493671 ],\n",
       "       [ 0.39837995, -1.49797   ],\n",
       "       [ 1.5125589 ,  0.4453923 ],\n",
       "       [ 1.1375724 , -1.414779  ],\n",
       "       [ 2.758374  , -0.88026106],\n",
       "       [ 3.3685806 ,  0.00893404],\n",
       "       [ 3.1160684 ,  0.50681317],\n",
       "       [ 1.1344254 ,  0.2805611 ],\n",
       "       [ 2.824616  , -0.55788624],\n",
       "       [ 0.6704864 ,  0.56682396],\n",
       "       [ 0.3725953 ,  0.16805412],\n",
       "       [ 0.9612645 ,  0.77388346],\n",
       "       [ 3.1181555 ,  0.51888233],\n",
       "       [ 2.691407  ,  0.09577464],\n",
       "       [ 2.7589254 , -0.88074225],\n",
       "       [ 1.8110898 ,  0.99828416],\n",
       "       [ 2.799874  , -0.31681964],\n",
       "       [ 0.25531942, -0.19177707],\n",
       "       [ 0.8476178 , -0.11057376],\n",
       "       [ 2.090517  , -1.5501668 ],\n",
       "       [ 2.683679  ,  0.10771985],\n",
       "       [ 1.2610208 , -1.4771894 ],\n",
       "       [ 2.2452865 ,  1.0568534 ],\n",
       "       [ 2.6917465 ,  0.09531719],\n",
       "       [ 0.7591675 , -0.7087406 ],\n",
       "       [ 1.650048  , -1.5757614 ],\n",
       "       [ 0.5272476 ,  0.40002918],\n",
       "       [ 1.2623413 ,  0.9563837 ],\n",
       "       [ 2.0398746 ,  0.4397934 ],\n",
       "       [ 0.2631593 , -0.50788146],\n",
       "       [ 2.7403734 ,  0.8498111 ],\n",
       "       [ 2.7117727 ,  0.05672038],\n",
       "       [ 2.0615058 ,  0.43790185],\n",
       "       [ 2.239485  ,  1.0657678 ],\n",
       "       [ 1.1375829 , -1.4147826 ],\n",
       "       [ 2.756281  , -0.88490254],\n",
       "       [ 2.7590928 , -0.8802351 ],\n",
       "       [ 1.6368586 , -1.5750939 ],\n",
       "       [ 0.75201994, -1.8650353 ],\n",
       "       [ 0.2795246 , -0.5308914 ],\n",
       "       [ 2.241368  , -2.0576427 ],\n",
       "       [ 2.759045  , -0.8803778 ],\n",
       "       [ 1.2559011 ,  0.94992405],\n",
       "       [ 3.372932  , -0.00505619],\n",
       "       [ 2.259712  ,  0.39063564],\n",
       "       [ 1.1516505 ,  0.29327112],\n",
       "       [ 1.0131541 ,  0.17988457],\n",
       "       [ 1.85021   , -2.1074822 ],\n",
       "       [ 3.3485744 ,  0.052779  ],\n",
       "       [ 3.2816203 , -1.1111566 ],\n",
       "       [ 1.7104089 ,  1.0029365 ],\n",
       "       [ 0.27951565, -0.5307636 ],\n",
       "       [ 0.18791053, -0.89361393],\n",
       "       [ 0.39381152, -1.4917252 ],\n",
       "       [ 0.18426122, -0.8773068 ],\n",
       "       [ 1.4921836 ,  0.44926554],\n",
       "       [ 2.8078895 , -1.7221011 ],\n",
       "       [ 0.88520133, -1.1580096 ],\n",
       "       [ 2.5510108 , -1.2375304 ],\n",
       "       [ 1.493928  ,  0.44744536],\n",
       "       [ 2.3870134 ,  0.36163917],\n",
       "       [ 0.669413  ,  0.5704152 ],\n",
       "       [ 1.492111  ,  0.44924605],\n",
       "       [ 0.2543962 , -0.19868152],\n",
       "       [ 2.2842135 , -1.4462368 ],\n",
       "       [ 2.8197331 , -0.41574544],\n",
       "       [ 3.3517437 , -0.8981751 ],\n",
       "       [ 1.1396905 , -1.4168614 ],\n",
       "       [ 0.7667767 , -0.32040963],\n",
       "       [ 2.0884874 , -1.5493659 ],\n",
       "       [ 1.1376008 , -1.4147952 ],\n",
       "       [ 0.78287977, -0.77617633],\n",
       "       [ 2.5374236 ,  0.24469563],\n",
       "       [ 1.3840922 , -2.1141324 ],\n",
       "       [ 2.2067428 , -1.4767069 ],\n",
       "       [ 1.2604963 , -1.4812437 ],\n",
       "       [ 2.0864093 , -1.5525975 ],\n",
       "       [ 2.7557018 ,  0.00554269],\n",
       "       [ 1.7797904 , -0.539131  ],\n",
       "       [ 2.0490034 ,  0.4411991 ],\n",
       "       [ 1.778689  , -0.5389156 ],\n",
       "       [ 1.7796265 , -0.5392637 ],\n",
       "       [ 1.7796295 , -0.53913313],\n",
       "       [ 1.7797866 , -0.5392713 ],\n",
       "       [ 1.7797867 , -0.53927135],\n",
       "       [ 1.7797866 , -0.5392713 ],\n",
       "       [ 1.7796303 , -0.53913313],\n",
       "       [ 1.7784164 , -0.53910166],\n",
       "       [ 1.7797866 , -0.5392713 ],\n",
       "       [ 1.7797866 , -0.53927135],\n",
       "       [ 1.7796274 , -0.53921676],\n",
       "       [ 1.7796293 , -0.53913313],\n",
       "       [ 1.7797865 , -0.53927124],\n",
       "       [ 1.7784164 , -0.53910166],\n",
       "       [ 1.7784164 , -0.53910166],\n",
       "       [ 1.7796304 , -0.53913325],\n",
       "       [ 1.7786889 , -0.5389156 ],\n",
       "       [ 1.778689  , -0.53891575],\n",
       "       [ 1.7796274 , -0.53921676],\n",
       "       [ 1.7797866 , -0.5392713 ],\n",
       "       [ 1.7797866 , -0.53927124],\n",
       "       [ 1.778689  , -0.53891575],\n",
       "       [ 1.7795557 , -0.53921527],\n",
       "       [ 1.7796302 , -0.5391332 ],\n",
       "       [ 1.7797867 , -0.5392713 ],\n",
       "       [ 1.7797866 , -0.53927124],\n",
       "       [ 1.7797865 , -0.5392713 ],\n",
       "       [ 1.7797904 , -0.539131  ],\n",
       "       [ 1.7797866 , -0.5392713 ],\n",
       "       [ 1.7796274 , -0.53921676],\n",
       "       [ 1.7784165 , -0.5391016 ],\n",
       "       [ 1.7796304 , -0.53913313],\n",
       "       [ 1.7797904 , -0.539131  ],\n",
       "       [ 1.7797904 , -0.5391335 ],\n",
       "       [ 1.7786889 , -0.5389155 ],\n",
       "       [ 1.7796302 , -0.53913313],\n",
       "       [ 1.7797865 , -0.53927124],\n",
       "       [ 1.7797866 , -0.5392713 ],\n",
       "       [ 1.7797905 , -0.5391334 ],\n",
       "       [ 1.7797866 , -0.5392713 ],\n",
       "       [ 1.778689  , -0.53891575],\n",
       "       [ 1.779569  , -0.53912985],\n",
       "       [ 1.778689  , -0.53891563],\n",
       "       [ 1.7786888 , -0.5389156 ],\n",
       "       [ 1.7797866 , -0.53927124],\n",
       "       [ 1.7797904 , -0.5391309 ],\n",
       "       [ 1.7797905 , -0.5391309 ],\n",
       "       [ 1.7797866 , -0.5392713 ],\n",
       "       [ 1.7797866 , -0.5392713 ],\n",
       "       [ 1.7797903 , -0.5391335 ],\n",
       "       [ 1.7799116 , -0.53926295],\n",
       "       [ 1.7797866 , -0.5392713 ],\n",
       "       [ 1.7784165 , -0.5391017 ],\n",
       "       [ 1.7796303 , -0.5391332 ],\n",
       "       [ 1.7786889 , -0.5389156 ],\n",
       "       [ 1.778689  , -0.5389155 ],\n",
       "       [ 1.7784164 , -0.53910166],\n",
       "       [ 1.7797904 , -0.539131  ],\n",
       "       [ 1.7797866 , -0.5392713 ],\n",
       "       [ 1.7785155 , -0.5391014 ],\n",
       "       [ 1.7796304 , -0.53913313],\n",
       "       [ 1.7797866 , -0.53927124],\n",
       "       [ 1.7784164 , -0.5391017 ],\n",
       "       [ 1.7797865 , -0.53927124],\n",
       "       [ 1.769457  , -0.5388528 ],\n",
       "       [ 1.7797866 , -0.53927124],\n",
       "       [ 0.62728333, -1.7822273 ],\n",
       "       [ 2.632418  , -1.8988322 ],\n",
       "       [ 1.0179312 ,  0.1654549 ],\n",
       "       [ 0.3779396 ,  0.18189336],\n",
       "       [ 0.2772115 , -1.2366629 ],\n",
       "       [ 0.8464712 , -0.10567468],\n",
       "       [ 2.5549    , -1.2355243 ],\n",
       "       [ 0.7868327 , -0.8132286 ],\n",
       "       [ 3.1022036 , -1.4250101 ],\n",
       "       [ 2.2341406 , -2.0559955 ],\n",
       "       [ 2.088449  , -1.5520219 ],\n",
       "       [ 0.8464667 , -0.10568245],\n",
       "       [ 2.6964633 ,  0.08561384],\n",
       "       [ 1.4092582 , -2.1193495 ],\n",
       "       [ 2.7403557 ,  0.8498217 ],\n",
       "       [ 2.5587711 , -1.2312591 ],\n",
       "       [ 1.8475279 ,  0.95273316],\n",
       "       [ 2.0884962 , -1.5493624 ],\n",
       "       [ 1.4191355 , -2.1559067 ],\n",
       "       [ 0.7577382 , -0.65812904],\n",
       "       [ 2.5563889 , -1.2321701 ],\n",
       "       [ 1.6361539 , -1.5750248 ],\n",
       "       [ 2.756219  , -0.8850887 ],\n",
       "       [ 1.6241162 , -1.5744904 ],\n",
       "       [ 0.17741407, -0.8372799 ],\n",
       "       [ 2.608628  ,  0.9182196 ],\n",
       "       [ 0.85195935, -0.10052296],\n",
       "       [ 2.0284328 ,  0.44013572],\n",
       "       [ 2.731936  , -0.02960159],\n",
       "       [ 2.319589  ,  1.0382749 ],\n",
       "       [ 1.2788289 ,  0.97330934],\n",
       "       [ 1.779569  , -0.5391299 ],\n",
       "       [ 3.3574061 , -0.4905967 ],\n",
       "       [ 1.7797866 , -0.53927124],\n",
       "       [ 1.1375751 , -1.4147792 ],\n",
       "       [ 1.7796303 , -0.53913313],\n",
       "       [ 1.7796276 , -0.5392167 ],\n",
       "       [ 1.7797866 , -0.5392713 ],\n",
       "       [ 1.7784164 , -0.5391017 ],\n",
       "       [ 1.7797865 , -0.53927124],\n",
       "       [ 1.7797866 , -0.5392713 ],\n",
       "       [ 1.7786889 , -0.5389155 ],\n",
       "       [ 1.7797866 , -0.53927124],\n",
       "       [ 1.7795691 , -0.5391299 ],\n",
       "       [ 1.7797905 , -0.5391309 ],\n",
       "       [ 1.7797866 , -0.53927124],\n",
       "       [ 1.7795689 , -0.53913   ],\n",
       "       [ 1.7797866 , -0.53927124],\n",
       "       [ 1.7796266 , -0.53933936],\n",
       "       [ 1.7795556 , -0.5392153 ],\n",
       "       [ 1.7797904 , -0.539131  ],\n",
       "       [ 0.7588029 , -0.70930016],\n",
       "       [ 1.7410432 , -2.1094918 ],\n",
       "       [ 3.0921907 , -1.4423077 ],\n",
       "       [ 2.8246143 , -0.55784595],\n",
       "       [ 1.4921972 ,  0.4492722 ],\n",
       "       [ 2.776305  , -0.30697185],\n",
       "       [ 1.778689  , -0.5389155 ],\n",
       "       [ 1.7796332 , -0.5399752 ],\n",
       "       [ 1.7784164 , -0.5391017 ],\n",
       "       [ 1.7797904 , -0.539131  ],\n",
       "       [ 1.7796276 , -0.53921676],\n",
       "       [ 1.7796304 , -0.5391332 ],\n",
       "       [ 1.7796302 , -0.53913313],\n",
       "       [ 1.8731881 ,  0.99569136]], dtype=float32)"
      ]
     },
     "execution_count": 23,
     "metadata": {},
     "output_type": "execute_result"
    }
   ],
   "source": [
    "from sklearn.manifold import TSNE\n",
    "from tensorflow.keras.models import Model\n",
    "import seaborn as sns\n",
    "import pandas as pd\n",
    "\n",
    "intermediate_layer_model = Model(inputs=model.input,\n",
    "                                        outputs=model.get_layer('dense_2').output)\n",
    "\n",
    "tsne_eval_generator = test_datagen.flow_from_directory(DATASET_PATH,target_size=IMAGE_SIZE,\n",
    "                                                  batch_size=1,shuffle=True,seed=42,class_mode=\"categorical\")\n",
    "\n",
    "intermediate_output = intermediate_layer_model.predict(tsne_eval_generator)\n",
    "\n",
    "tsne = TSNE(n_components=2, random_state=0)\n",
    "z = tsne.fit_transform(intermediate_output)\n",
    "\n",
    "\n",
    "z\n",
    "\n",
    "#raise NotImplementedError(\"Extract features from the tsne_data_generator and fit a t-SNE model for the features,\"\n",
    "                          #\"and plot the resulting 2D features of the four classes.\")"
   ]
  },
  {
   "cell_type": "markdown",
   "metadata": {},
   "source": [
    "<!-- ## Task 2: COVID-19 vs Normal vs Tertiary Pneumonia (Bacterial and Viral) -->"
   ]
  },
  {
   "cell_type": "markdown",
   "metadata": {
    "nbpresent": {
     "id": "66140980-2aa4-457f-b1df-74c10c234cc2"
    }
   },
   "source": [
    "<!-- #### Renew Training Batch and Validation Batch -->"
   ]
  },
  {
   "cell_type": "markdown",
   "metadata": {
    "nbpresent": {
     "id": "66140980-2aa4-457f-b1df-74c10c234cc2"
    }
   },
   "source": [
    "<!-- #### Renew Model -->"
   ]
  }
 ],
 "metadata": {
  "kernelspec": {
   "display_name": "Python 3 (ipykernel)",
   "language": "python",
   "name": "python3"
  },
  "language_info": {
   "codemirror_mode": {
    "name": "ipython",
    "version": 3
   },
   "file_extension": ".py",
   "mimetype": "text/x-python",
   "name": "python",
   "nbconvert_exporter": "python",
   "pygments_lexer": "ipython3",
   "version": "3.8.12"
  },
  "latex_envs": {
   "LaTeX_envs_menu_present": true,
   "autoclose": false,
   "autocomplete": true,
   "bibliofile": "biblio.bib",
   "cite_by": "apalike",
   "current_citInitial": 1,
   "eqLabelWithNumbers": true,
   "eqNumInitial": 1,
   "hotkeys": {
    "equation": "Ctrl-E",
    "itemize": "Ctrl-I"
   },
   "labels_anchors": false,
   "latex_user_defs": false,
   "report_style_numbering": false,
   "user_envs_cfg": false
  },
  "toc": {
   "base_numbering": 1,
   "nav_menu": {},
   "number_sections": true,
   "sideBar": true,
   "skip_h1_title": false,
   "title_cell": "Table of Contents",
   "title_sidebar": "Contents",
   "toc_cell": false,
   "toc_position": {},
   "toc_section_display": true,
   "toc_window_display": false
  },
  "varInspector": {
   "cols": {
    "lenName": 16,
    "lenType": 16,
    "lenVar": 40
   },
   "kernels_config": {
    "python": {
     "delete_cmd_postfix": "",
     "delete_cmd_prefix": "del ",
     "library": "var_list.py",
     "varRefreshCmd": "print(var_dic_list())"
    },
    "r": {
     "delete_cmd_postfix": ") ",
     "delete_cmd_prefix": "rm(",
     "library": "var_list.r",
     "varRefreshCmd": "cat(var_dic_list()) "
    }
   },
   "types_to_exclude": [
    "module",
    "function",
    "builtin_function_or_method",
    "instance",
    "_Feature"
   ],
   "window_display": false
  }
 },
 "nbformat": 4,
 "nbformat_minor": 4
}
