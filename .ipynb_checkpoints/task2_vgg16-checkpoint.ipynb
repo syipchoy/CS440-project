{
 "cells": [
  {
   "cell_type": "markdown",
   "metadata": {
    "nbpresent": {
     "id": "1d234e3f-af8b-4757-83f3-241b04b7a511"
    }
   },
   "source": [
    "# Class Challenge: Image Classification of COVID-19 X-rays\n",
    "# Task 2 [Total points: 30]"
   ]
  },
  {
   "cell_type": "markdown",
   "metadata": {
    "nbpresent": {
     "id": "b07b9992-b592-4871-9f9a-3b0ae5fa8b5f"
    }
   },
   "source": [
    "## Setup\n",
    "\n",
    "* This assignment involves the following packages: 'matplotlib', 'numpy', and 'sklearn'. \n",
    "\n",
    "* If you are using conda, use the following commands to install the above packages:<br>\n",
    "```shell\n",
    "conda install matplotlib\n",
    "conda install numpy\n",
    "conda install -c anaconda scikit-learn\n",
    "```\n",
    "\n",
    "* If you are using pip, use use the following commands to install the above packages: <br> \n",
    "```shell\n",
    "pip install matplotlib\n",
    "pip install numpy\n",
    "pip install sklearn\n",
    "```"
   ]
  },
  {
   "cell_type": "markdown",
   "metadata": {
    "nbpresent": {
     "id": "5516f610-f00c-43c3-bf19-4cf7ab9c089f"
    }
   },
   "source": [
    "## Data\n",
    "\n",
    "Please download the data using the following link: [COVID-19](https://drive.google.com/file/d/1Y88tgqpQ1Pjko_7rntcPowOJs_QNOrJ-/view). \n",
    "\n",
    "* After downloading 'Covid_Data_GradientCrescent.zip', unzip the file and you should see the following data structure:\n",
    "\n",
    "\n",
    "|--all<br>\n",
    "|--------train<br>\n",
    "|--------test<br>\n",
    "|--two<br>\n",
    "|--------train<br>\n",
    "|--------test<br>\n",
    "\n",
    "\n",
    "* Put the 'all' folder, the 'two' folder and this python notebook in the **same directory** so that the following code can correctly locate the data.  \n",
    "\n"
   ]
  },
  {
   "cell_type": "markdown",
   "metadata": {
    "nbpresent": {
     "id": "66140980-2aa4-457f-b1df-74c10c234cc2"
    }
   },
   "source": [
    "## [20 points] Multi-class Classification"
   ]
  },
  {
   "cell_type": "code",
   "execution_count": 1,
   "metadata": {
    "nbpresent": {
     "id": "5e05f980-3d14-4367-b3d1-664249145b13"
    },
    "scrolled": true
   },
   "outputs": [
    {
     "data": {
      "text/plain": [
       "'2.4.0-rc0'"
      ]
     },
     "execution_count": 1,
     "metadata": {},
     "output_type": "execute_result"
    }
   ],
   "source": [
    "import os\n",
    "\n",
    "import tensorflow as tf\n",
    "import numpy as np\n",
    "import matplotlib.pyplot as plt\n",
    "from tensorflow.keras.preprocessing.image import ImageDataGenerator\n",
    "from tensorflow.keras.applications.vgg16 import VGG16\n",
    "from tensorflow.keras.layers import Dense, Activation, Flatten, DenseFeatures, Conv2D, MaxPool2D, Dropout, BatchNormalization\n",
    "from tensorflow.keras import regularizers\n",
    "\n",
    "os.environ['OMP_NUM_THREADS'] = '1'\n",
    "os.environ['CUDA_VISIBLE_DEVICES'] = '-1'\n",
    "tf.__version__"
   ]
  },
  {
   "cell_type": "markdown",
   "metadata": {
    "nbpresent": {
     "id": "66140980-2aa4-457f-b1df-74c10c234cc2"
    }
   },
   "source": [
    "#### Load Image Data"
   ]
  },
  {
   "cell_type": "code",
   "execution_count": 2,
   "metadata": {
    "nbpresent": {
     "id": "58317664-8da3-4283-b3e5-35721687e7ab"
    }
   },
   "outputs": [],
   "source": [
    "DATA_LIST = os.listdir('all/train')\n",
    "DATASET_PATH  = 'all/train'\n",
    "TEST_DIR =  'all/test'\n",
    "IMAGE_SIZE    = (224, 224)\n",
    "NUM_CLASSES   = len(DATA_LIST)\n",
    "BATCH_SIZE    = 10  # try reducing batch size or freeze more layers if your GPU runs out of memory\n",
    "NUM_EPOCHS    = 50\n",
    "LEARNING_RATE = 0.0001 # start off with high rate first 0.001 and experiment with reducing it gradually "
   ]
  },
  {
   "cell_type": "markdown",
   "metadata": {
    "nbpresent": {
     "id": "66140980-2aa4-457f-b1df-74c10c234cc2"
    }
   },
   "source": [
    "#### Generate Training and Validation Batches"
   ]
  },
  {
   "cell_type": "code",
   "execution_count": 3,
   "metadata": {
    "nbpresent": {
     "id": "71760e29-2b08-4259-93f1-ebe68cd74a6d"
    }
   },
   "outputs": [
    {
     "name": "stdout",
     "output_type": "stream",
     "text": [
      "Found 215 images belonging to 4 classes.\n",
      "Found 52 images belonging to 4 classes.\n"
     ]
    },
    {
     "name": "stderr",
     "output_type": "stream",
     "text": [
      "/Users/syipchoy/miniforge3/envs/apple_tensorflow/lib/python3.8/site-packages/keras_preprocessing/image/image_data_generator.py:342: UserWarning: This ImageDataGenerator specifies `zca_whitening` which overrides setting of`featurewise_std_normalization`.\n",
      "  warnings.warn('This ImageDataGenerator specifies '\n"
     ]
    }
   ],
   "source": [
    "train_datagen = ImageDataGenerator(rescale=1./255,rotation_range=50,featurewise_center = True,\n",
    "                                   featurewise_std_normalization = True,width_shift_range=0.2,\n",
    "                                   height_shift_range=0.2,shear_range=0.25,zoom_range=0.1,\n",
    "                                   zca_whitening = True,channel_shift_range = 20,\n",
    "                                   horizontal_flip = True,vertical_flip = True,\n",
    "                                   validation_split = 0.2,fill_mode='constant')\n",
    "\n",
    "\n",
    "train_batches = train_datagen.flow_from_directory(DATASET_PATH,target_size=IMAGE_SIZE,\n",
    "                                                  shuffle=True,batch_size=BATCH_SIZE,\n",
    "                                                  subset = \"training\",seed=42,\n",
    "                                                  class_mode=\"categorical\")\n",
    "\n",
    "valid_batches = train_datagen.flow_from_directory(DATASET_PATH,target_size=IMAGE_SIZE,\n",
    "                                                  shuffle=True,batch_size=BATCH_SIZE,\n",
    "                                                  subset = \"validation\",\n",
    "                                                  seed=42,class_mode=\"categorical\")"
   ]
  },
  {
   "cell_type": "code",
   "execution_count": 34,
   "metadata": {},
   "outputs": [
    {
     "name": "stdout",
     "output_type": "stream",
     "text": [
      "<tensorflow.python.keras.preprocessing.image.DirectoryIterator object at 0x1798273d0>\n"
     ]
    }
   ],
   "source": [
    "print(train_batches)"
   ]
  },
  {
   "cell_type": "markdown",
   "metadata": {
    "nbpresent": {
     "id": "66140980-2aa4-457f-b1df-74c10c234cc2"
    }
   },
   "source": [
    "#### [10 points] Build Model\n",
    "Hint: Starting from a pre-trained model typically helps performance on a new task, e.g. starting with weights obtained by training on ImageNet. "
   ]
  },
  {
   "cell_type": "code",
   "execution_count": 9,
   "metadata": {
    "nbpresent": {
     "id": "5c52eeb2-1092-4d45-9e16-02219c82cb5e"
    }
   },
   "outputs": [
    {
     "name": "stdout",
     "output_type": "stream",
     "text": [
      "Model: \"sequential_3\"\n",
      "_________________________________________________________________\n",
      "Layer (type)                 Output Shape              Param #   \n",
      "=================================================================\n",
      "vgg16 (Functional)           (None, 7, 7, 512)         14714688  \n",
      "_________________________________________________________________\n",
      "global_max_pooling2d (Global (None, 512)               0         \n",
      "_________________________________________________________________\n",
      "flatten_2 (Flatten)          (None, 512)               0         \n",
      "_________________________________________________________________\n",
      "dense_5 (Dense)              (None, 1024)              525312    \n",
      "_________________________________________________________________\n",
      "dense_6 (Dense)              (None, 256)               262400    \n",
      "_________________________________________________________________\n",
      "dropout_3 (Dropout)          (None, 256)               0         \n",
      "_________________________________________________________________\n",
      "dense_7 (Dense)              (None, 4)                 1028      \n",
      "=================================================================\n",
      "Total params: 15,503,428\n",
      "Trainable params: 788,740\n",
      "Non-trainable params: 14,714,688\n",
      "_________________________________________________________________\n"
     ]
    }
   ],
   "source": [
    "#feature_columns = [:]\n",
    "\n",
    "\n",
    "\n",
    "\n",
    "model = tf.keras.models.Sequential()\n",
    "vgg16 = VGG16(weights='imagenet', input_shape=(224, 224, 3), include_top=False)\n",
    "vgg16.trainable=False\n",
    "\n",
    "model.add(vgg16)\n",
    "model.add(tf.keras.layers.GlobalMaxPooling2D())\n",
    "model.add(Flatten())\n",
    "#model.add(DenseFeatures(feature_columns = feature_columns))\n",
    "model.add(Dense(1024, activation='relu'))\n",
    "#model.add(tf.keras.layers.Dropout(0.4))\n",
    "model.add(Dense(256, activation='relu'))\n",
    "model.add(tf.keras.layers.Dropout(0.4))\n",
    "model.add(Dense(4, activation='softmax'))\n",
    "model.summary()\n",
    "\n",
    "model.compile(optimizer='adam',\n",
    "                loss=tf.keras.losses.CategoricalCrossentropy(),\n",
    "                metrics=['accuracy'])"
   ]
  },
  {
   "cell_type": "markdown",
   "metadata": {
    "nbpresent": {
     "id": "66140980-2aa4-457f-b1df-74c10c234cc2"
    }
   },
   "source": [
    "#### [5 points] Train Model"
   ]
  },
  {
   "cell_type": "code",
   "execution_count": 10,
   "metadata": {
    "nbpresent": {
     "id": "cdb90d24-6a23-4969-8138-f37e7050062d"
    }
   },
   "outputs": [
    {
     "name": "stdout",
     "output_type": "stream",
     "text": [
      "22\n",
      "6\n",
      "Epoch 1/50\n",
      "WARNING:tensorflow:AutoGraph could not transform <function Model.make_train_function.<locals>.train_function at 0x35d4d78b0> and will run it as-is.\n",
      "Please report this to the TensorFlow team. When filing the bug, set the verbosity to 10 (on Linux, `export AUTOGRAPH_VERBOSITY=10`) and attach the full output.\n",
      "Cause: unsupported operand type(s) for -: 'NoneType' and 'int'\n",
      "To silence this warning, decorate the function with @tf.autograph.experimental.do_not_convert\n",
      "WARNING: AutoGraph could not transform <function Model.make_train_function.<locals>.train_function at 0x35d4d78b0> and will run it as-is.\n",
      "Please report this to the TensorFlow team. When filing the bug, set the verbosity to 10 (on Linux, `export AUTOGRAPH_VERBOSITY=10`) and attach the full output.\n",
      "Cause: unsupported operand type(s) for -: 'NoneType' and 'int'\n",
      "To silence this warning, decorate the function with @tf.autograph.experimental.do_not_convert\n",
      "21/21 [==============================] - ETA: 0s - loss: 2.3051 - accuracy: 0.2529WARNING:tensorflow:AutoGraph could not transform <function Model.make_test_function.<locals>.test_function at 0x17f224a60> and will run it as-is.\n",
      "Please report this to the TensorFlow team. When filing the bug, set the verbosity to 10 (on Linux, `export AUTOGRAPH_VERBOSITY=10`) and attach the full output.\n",
      "Cause: unsupported operand type(s) for -: 'NoneType' and 'int'\n",
      "To silence this warning, decorate the function with @tf.autograph.experimental.do_not_convert\n",
      "WARNING: AutoGraph could not transform <function Model.make_test_function.<locals>.test_function at 0x17f224a60> and will run it as-is.\n",
      "Please report this to the TensorFlow team. When filing the bug, set the verbosity to 10 (on Linux, `export AUTOGRAPH_VERBOSITY=10`) and attach the full output.\n",
      "Cause: unsupported operand type(s) for -: 'NoneType' and 'int'\n",
      "To silence this warning, decorate the function with @tf.autograph.experimental.do_not_convert\n",
      "21/21 [==============================] - 11s 489ms/step - loss: 2.2923 - accuracy: 0.2543 - val_loss: 1.2419 - val_accuracy: 0.4400\n",
      "Epoch 2/50\n",
      "21/21 [==============================] - 10s 464ms/step - loss: 1.5439 - accuracy: 0.3370 - val_loss: 1.2362 - val_accuracy: 0.4600\n",
      "Epoch 3/50\n",
      "21/21 [==============================] - 10s 464ms/step - loss: 1.6207 - accuracy: 0.3195 - val_loss: 1.1457 - val_accuracy: 0.4400\n",
      "Epoch 4/50\n",
      "21/21 [==============================] - 10s 465ms/step - loss: 1.5146 - accuracy: 0.3238 - val_loss: 0.9546 - val_accuracy: 0.6600\n",
      "Epoch 5/50\n",
      "21/21 [==============================] - 10s 462ms/step - loss: 1.5538 - accuracy: 0.3736 - val_loss: 1.1673 - val_accuracy: 0.4600\n",
      "Epoch 6/50\n",
      "21/21 [==============================] - 10s 489ms/step - loss: 1.3109 - accuracy: 0.3992 - val_loss: 0.9994 - val_accuracy: 0.5000\n",
      "Epoch 7/50\n",
      "21/21 [==============================] - 11s 516ms/step - loss: 1.2309 - accuracy: 0.4348 - val_loss: 0.9760 - val_accuracy: 0.5400\n",
      "Epoch 8/50\n",
      "21/21 [==============================] - 10s 487ms/step - loss: 1.2188 - accuracy: 0.4639 - val_loss: 0.8056 - val_accuracy: 0.6000\n",
      "Epoch 9/50\n",
      "21/21 [==============================] - 11s 515ms/step - loss: 1.0193 - accuracy: 0.5607 - val_loss: 0.8114 - val_accuracy: 0.5600\n",
      "Epoch 10/50\n",
      "21/21 [==============================] - 10s 495ms/step - loss: 1.1532 - accuracy: 0.4784 - val_loss: 0.7487 - val_accuracy: 0.6000\n",
      "Epoch 11/50\n",
      "21/21 [==============================] - 11s 506ms/step - loss: 1.1014 - accuracy: 0.5765 - val_loss: 0.7209 - val_accuracy: 0.6000\n",
      "Epoch 12/50\n",
      "21/21 [==============================] - 11s 508ms/step - loss: 1.0703 - accuracy: 0.5307 - val_loss: 1.0197 - val_accuracy: 0.5400\n",
      "Epoch 13/50\n",
      "21/21 [==============================] - 11s 512ms/step - loss: 0.9469 - accuracy: 0.5516 - val_loss: 0.8145 - val_accuracy: 0.5400\n",
      "Epoch 14/50\n",
      "21/21 [==============================] - 11s 515ms/step - loss: 1.0074 - accuracy: 0.5828 - val_loss: 1.0433 - val_accuracy: 0.5400\n",
      "Epoch 15/50\n",
      "21/21 [==============================] - 11s 510ms/step - loss: 0.8562 - accuracy: 0.5609 - val_loss: 0.8012 - val_accuracy: 0.6800\n",
      "Epoch 16/50\n",
      "21/21 [==============================] - 11s 509ms/step - loss: 0.8763 - accuracy: 0.5804 - val_loss: 1.0938 - val_accuracy: 0.4600\n",
      "Epoch 17/50\n",
      "21/21 [==============================] - 11s 510ms/step - loss: 0.8847 - accuracy: 0.5920 - val_loss: 0.9004 - val_accuracy: 0.6000\n",
      "Epoch 18/50\n",
      "21/21 [==============================] - 11s 514ms/step - loss: 0.9395 - accuracy: 0.5936 - val_loss: 0.8392 - val_accuracy: 0.5800\n",
      "Epoch 19/50\n",
      "21/21 [==============================] - 11s 515ms/step - loss: 1.1926 - accuracy: 0.4878 - val_loss: 0.7966 - val_accuracy: 0.6000\n",
      "Epoch 20/50\n",
      "21/21 [==============================] - 11s 515ms/step - loss: 0.9136 - accuracy: 0.5849 - val_loss: 0.7401 - val_accuracy: 0.7000\n",
      "Epoch 21/50\n",
      "21/21 [==============================] - 11s 516ms/step - loss: 0.7280 - accuracy: 0.6597 - val_loss: 0.8669 - val_accuracy: 0.5400\n",
      "Epoch 22/50\n",
      "21/21 [==============================] - 11s 521ms/step - loss: 0.8685 - accuracy: 0.6173 - val_loss: 0.7029 - val_accuracy: 0.6600\n",
      "Epoch 23/50\n",
      "21/21 [==============================] - 11s 524ms/step - loss: 0.7570 - accuracy: 0.6415 - val_loss: 0.6357 - val_accuracy: 0.6600\n",
      "Epoch 24/50\n",
      "21/21 [==============================] - 11s 529ms/step - loss: 0.6276 - accuracy: 0.7383 - val_loss: 0.6510 - val_accuracy: 0.6000\n",
      "Epoch 25/50\n",
      "21/21 [==============================] - 11s 533ms/step - loss: 0.6646 - accuracy: 0.7029 - val_loss: 0.6667 - val_accuracy: 0.6800\n",
      "Epoch 26/50\n",
      "21/21 [==============================] - 11s 519ms/step - loss: 0.6649 - accuracy: 0.7051 - val_loss: 0.6879 - val_accuracy: 0.6800\n",
      "Epoch 27/50\n",
      "21/21 [==============================] - 11s 533ms/step - loss: 0.7853 - accuracy: 0.6462 - val_loss: 0.8422 - val_accuracy: 0.5600\n",
      "Epoch 28/50\n",
      "21/21 [==============================] - 11s 525ms/step - loss: 0.8518 - accuracy: 0.6813 - val_loss: 0.8594 - val_accuracy: 0.5800\n",
      "Epoch 29/50\n",
      "21/21 [==============================] - 11s 519ms/step - loss: 1.0242 - accuracy: 0.5867 - val_loss: 1.1232 - val_accuracy: 0.5600\n",
      "Epoch 30/50\n",
      "21/21 [==============================] - 11s 525ms/step - loss: 0.7792 - accuracy: 0.7249 - val_loss: 0.6476 - val_accuracy: 0.6800\n",
      "Epoch 31/50\n",
      "21/21 [==============================] - 11s 521ms/step - loss: 0.7431 - accuracy: 0.6895 - val_loss: 0.8675 - val_accuracy: 0.6000\n",
      "Epoch 32/50\n",
      "21/21 [==============================] - 11s 518ms/step - loss: 0.6872 - accuracy: 0.6956 - val_loss: 0.7291 - val_accuracy: 0.6600\n",
      "Epoch 33/50\n",
      "21/21 [==============================] - 11s 534ms/step - loss: 0.7580 - accuracy: 0.6754 - val_loss: 0.6436 - val_accuracy: 0.6200\n",
      "Epoch 34/50\n",
      "21/21 [==============================] - 11s 530ms/step - loss: 0.7761 - accuracy: 0.7144 - val_loss: 0.5931 - val_accuracy: 0.7000\n",
      "Epoch 35/50\n",
      "21/21 [==============================] - 11s 518ms/step - loss: 0.7131 - accuracy: 0.6687 - val_loss: 0.7704 - val_accuracy: 0.6400\n",
      "Epoch 36/50\n",
      "21/21 [==============================] - 11s 528ms/step - loss: 0.7018 - accuracy: 0.6449 - val_loss: 0.7452 - val_accuracy: 0.5800\n",
      "Epoch 37/50\n",
      "21/21 [==============================] - 11s 527ms/step - loss: 0.7820 - accuracy: 0.6225 - val_loss: 0.7155 - val_accuracy: 0.6600\n",
      "Epoch 38/50\n",
      "21/21 [==============================] - 11s 528ms/step - loss: 0.7527 - accuracy: 0.6582 - val_loss: 0.6299 - val_accuracy: 0.6000\n",
      "Epoch 39/50\n",
      "21/21 [==============================] - 11s 522ms/step - loss: 0.8256 - accuracy: 0.6197 - val_loss: 0.7447 - val_accuracy: 0.5800\n",
      "Epoch 40/50\n",
      "21/21 [==============================] - 11s 539ms/step - loss: 0.7155 - accuracy: 0.7255 - val_loss: 0.7597 - val_accuracy: 0.6400\n",
      "Epoch 41/50\n",
      "21/21 [==============================] - 11s 533ms/step - loss: 0.7859 - accuracy: 0.6622 - val_loss: 0.8934 - val_accuracy: 0.6000\n",
      "Epoch 42/50\n",
      "21/21 [==============================] - 11s 521ms/step - loss: 0.7618 - accuracy: 0.6705 - val_loss: 0.7514 - val_accuracy: 0.6200\n",
      "Epoch 43/50\n",
      "21/21 [==============================] - 11s 527ms/step - loss: 0.8782 - accuracy: 0.6012 - val_loss: 0.8722 - val_accuracy: 0.5400\n",
      "Epoch 44/50\n"
     ]
    },
    {
     "name": "stdout",
     "output_type": "stream",
     "text": [
      "21/21 [==============================] - 11s 532ms/step - loss: 0.8846 - accuracy: 0.6235 - val_loss: 0.6409 - val_accuracy: 0.6400\n",
      "Epoch 45/50\n",
      "21/21 [==============================] - 11s 528ms/step - loss: 0.6657 - accuracy: 0.6819 - val_loss: 0.7644 - val_accuracy: 0.6200\n",
      "Epoch 46/50\n",
      "21/21 [==============================] - 11s 521ms/step - loss: 0.6424 - accuracy: 0.6967 - val_loss: 0.6966 - val_accuracy: 0.6800\n",
      "Epoch 47/50\n",
      "21/21 [==============================] - 11s 539ms/step - loss: 0.6695 - accuracy: 0.6850 - val_loss: 0.6004 - val_accuracy: 0.6600\n",
      "Epoch 48/50\n",
      "21/21 [==============================] - 11s 526ms/step - loss: 0.6348 - accuracy: 0.7424 - val_loss: 0.7363 - val_accuracy: 0.7000\n",
      "Epoch 49/50\n",
      "21/21 [==============================] - 11s 522ms/step - loss: 0.7109 - accuracy: 0.7039 - val_loss: 0.7308 - val_accuracy: 0.6600\n",
      "Epoch 50/50\n",
      "21/21 [==============================] - 11s 541ms/step - loss: 0.6179 - accuracy: 0.6984 - val_loss: 0.7865 - val_accuracy: 0.6600\n"
     ]
    }
   ],
   "source": [
    "#FIT MODEL\n",
    "print(len(train_batches))\n",
    "print(len(valid_batches))\n",
    "\n",
    "STEP_SIZE_TRAIN=train_batches.n//train_batches.batch_size\n",
    "STEP_SIZE_VALID=valid_batches.n//valid_batches.batch_size\n",
    "\n",
    "history = model.fit(train_batches, steps_per_epoch=STEP_SIZE_TRAIN, validation_data = valid_batches, \n",
    "                             validation_steps = STEP_SIZE_VALID, epochs = NUM_EPOCHS)"
   ]
  },
  {
   "cell_type": "markdown",
   "metadata": {
    "nbpresent": {
     "id": "66140980-2aa4-457f-b1df-74c10c234cc2"
    }
   },
   "source": [
    "#### [5 points] Plot Accuracy and Loss During Training"
   ]
  },
  {
   "cell_type": "code",
   "execution_count": 13,
   "metadata": {
    "nbpresent": {
     "id": "ff342098-784a-4e20-ac34-b74ca8ebe839"
    }
   },
   "outputs": [
    {
     "data": {
      "text/plain": [
       "<matplotlib.legend.Legend at 0x3bf3c4310>"
      ]
     },
     "execution_count": 13,
     "metadata": {},
     "output_type": "execute_result"
    },
    {
     "data": {
      "image/png": "[encoded data removed]",
      "text/plain": [
       "<Figure size 432x288 with 1 Axes>"
      ]
     },
     "metadata": {
      "needs_background": "light"
     },
     "output_type": "display_data"
    }
   ],
   "source": [
    "import matplotlib.pyplot as plt\n",
    "\n",
    "plt.plot(history.history['accuracy'], label='accuracy')\n",
    "plt.plot(history.history['val_accuracy'], label = 'validation accuracy')\n",
    "plt.title(\"Accuracy over 50 Epochs\")\n",
    "plt.xlabel('Epoch')\n",
    "plt.ylabel('Accuracy')\n",
    "plt.ylim([.2, .8])\n",
    "plt.legend(loc='lower right')"
   ]
  },
  {
   "cell_type": "code",
   "execution_count": 15,
   "metadata": {},
   "outputs": [
    {
     "data": {
      "text/plain": [
       "<matplotlib.legend.Legend at 0x3bf8dc9a0>"
      ]
     },
     "execution_count": 15,
     "metadata": {},
     "output_type": "execute_result"
    },
    {
     "data": {
      "image/png": "[encoded data removed]",
      "text/plain": [
       "<Figure size 432x288 with 1 Axes>"
      ]
     },
     "metadata": {
      "needs_background": "light"
     },
     "output_type": "display_data"
    }
   ],
   "source": [
    "plt.plot(history.history['loss'], label='loss')\n",
    "plt.plot(history.history['val_loss'], label = 'validation loss')\n",
    "plt.title(\"Loss over 50 Epochs\")\n",
    "plt.xlabel('Epoch')\n",
    "plt.ylabel('Loss')\n",
    "plt.ylim([0, 3])\n",
    "plt.legend(loc='lower right')"
   ]
  },
  {
   "cell_type": "markdown",
   "metadata": {
    "nbpresent": {
     "id": "66140980-2aa4-457f-b1df-74c10c234cc2"
    }
   },
   "source": [
    "#### Testing Model"
   ]
  },
  {
   "cell_type": "code",
   "execution_count": 16,
   "metadata": {},
   "outputs": [
    {
     "name": "stdout",
     "output_type": "stream",
     "text": [
      "Found 36 images belonging to 4 classes.\n",
      "36\n",
      "\r",
      " 1/36 [..............................] - ETA: 3s - loss: 0.5663 - accuracy: 1.0000"
     ]
    },
    {
     "name": "stderr",
     "output_type": "stream",
     "text": [
      "/Users/syipchoy/miniforge3/envs/apple_tensorflow/lib/python3.8/site-packages/tensorflow/python/keras/engine/training.py:1877: UserWarning: `Model.evaluate_generator` is deprecated and will be removed in a future version. Please use `Model.evaluate`, which supports generators.\n",
      "  warnings.warn('`Model.evaluate_generator` is deprecated and '\n"
     ]
    },
    {
     "name": "stdout",
     "output_type": "stream",
     "text": [
      "36/36 [==============================] - 2s 43ms/step - loss: 0.9599 - accuracy: 0.6111\n",
      "Test loss: 0.9599297642707825\n",
      "Test accuracy: 0.6111111044883728\n"
     ]
    }
   ],
   "source": [
    "test_datagen = ImageDataGenerator(rescale=1. / 255)\n",
    "\n",
    "eval_generator = test_datagen.flow_from_directory(TEST_DIR,target_size=IMAGE_SIZE,\n",
    "                                                  batch_size=1,shuffle=False,seed=42,class_mode=\"categorical\")\n",
    "eval_generator.reset()\n",
    "print(len(eval_generator))\n",
    "x = model.evaluate_generator(eval_generator,steps = np.ceil(len(eval_generator)),\n",
    "                           use_multiprocessing = False,verbose = 1,workers=1)\n",
    "print('Test loss:' , x[0])\n",
    "print('Test accuracy:',x[1])"
   ]
  },
  {
   "cell_type": "markdown",
   "metadata": {
    "nbpresent": {
     "id": "66140980-2aa4-457f-b1df-74c10c234cc2"
    }
   },
   "source": [
    "## [10 points] TSNE Plot\n",
    "t-Distributed Stochastic Neighbor Embedding (t-SNE) is a widely used technique for dimensionality reduction that is particularly well suited for the visualization of high-dimensional datasets. After training is complete, extract features from a specific deep layer of your choice, use t-SNE to reduce the dimensionality of your extracted features to 2 dimensions and plot the resulting 2D features."
   ]
  },
  {
   "cell_type": "code",
   "execution_count": 18,
   "metadata": {},
   "outputs": [
    {
     "name": "stdout",
     "output_type": "stream",
     "text": [
      "Found 267 images belonging to 4 classes.\n",
      "WARNING:tensorflow:AutoGraph could not transform <function Model.make_predict_function.<locals>.predict_function at 0x1754dee50> and will run it as-is.\n",
      "Please report this to the TensorFlow team. When filing the bug, set the verbosity to 10 (on Linux, `export AUTOGRAPH_VERBOSITY=10`) and attach the full output.\n",
      "Cause: unsupported operand type(s) for -: 'NoneType' and 'int'\n",
      "To silence this warning, decorate the function with @tf.autograph.experimental.do_not_convert\n",
      "WARNING: AutoGraph could not transform <function Model.make_predict_function.<locals>.predict_function at 0x1754dee50> and will run it as-is.\n",
      "Please report this to the TensorFlow team. When filing the bug, set the verbosity to 10 (on Linux, `export AUTOGRAPH_VERBOSITY=10`) and attach the full output.\n",
      "Cause: unsupported operand type(s) for -: 'NoneType' and 'int'\n",
      "To silence this warning, decorate the function with @tf.autograph.experimental.do_not_convert\n"
     ]
    },
    {
     "name": "stderr",
     "output_type": "stream",
     "text": [
      "/Users/syipchoy/miniforge3/envs/apple_tensorflow/lib/python3.8/site-packages/sklearn/manifold/_t_sne.py:780: FutureWarning: The default initialization in TSNE will change from 'random' to 'pca' in 1.2.\n",
      "  warnings.warn(\n",
      "/Users/syipchoy/miniforge3/envs/apple_tensorflow/lib/python3.8/site-packages/sklearn/manifold/_t_sne.py:790: FutureWarning: The default learning rate in TSNE will change from 200.0 to 'auto' in 1.2.\n",
      "  warnings.warn(\n"
     ]
    }
   ],
   "source": [
    "from sklearn.manifold import TSNE\n",
    "from tensorflow.keras.models import Model\n",
    "import seaborn as sns\n",
    "import pandas as pd\n",
    "\n",
    "intermediate_layer_model = Model(inputs=model.input,\n",
    "                                        outputs=model.get_layer('dense_6').output)\n",
    "\n",
    "tsne_eval_generator = test_datagen.flow_from_directory(DATASET_PATH,target_size=IMAGE_SIZE,\n",
    "                                                  batch_size=1,shuffle=False,seed=42,class_mode=\"categorical\")\n",
    "\n",
    "intermediate_output = intermediate_layer_model.predict(tsne_eval_generator)\n",
    "\n",
    "tsne = TSNE(n_components=2, random_state=0)\n",
    "z = tsne.fit_transform(intermediate_output)\n",
    "\n",
    "\n",
    "#raise NotImplementedError(\"Extract features from the tsne_data_generator and fit a t-SNE model for the features,\"\n",
    "                          #\"and plot the resulting 2D features of the four classes.\")"
   ]
  },
  {
   "cell_type": "code",
   "execution_count": 19,
   "metadata": {},
   "outputs": [
    {
     "data": {
      "text/plain": [
       "<matplotlib.collections.PathCollection at 0x1756471f0>"
      ]
     },
     "execution_count": 19,
     "metadata": {},
     "output_type": "execute_result"
    },
    {
     "data": {
      "image/png": "[encoded data removed]",
      "text/plain": [
       "<Figure size 432x288 with 1 Axes>"
      ]
     },
     "metadata": {
      "needs_background": "light"
     },
     "output_type": "display_data"
    }
   ],
   "source": [
    "labels = tsne_eval_generator.labels\n",
    "plt.title(\"t-SNE Plot for dense layer\")\n",
    "plt.scatter(z[:,0], z[:,1], c = labels)"
   ]
  },
  {
   "cell_type": "markdown",
   "metadata": {},
   "source": [
    "<!-- ## Task 2: COVID-19 vs Normal vs Tertiary Pneumonia (Bacterial and Viral) -->"
   ]
  },
  {
   "cell_type": "markdown",
   "metadata": {
    "nbpresent": {
     "id": "66140980-2aa4-457f-b1df-74c10c234cc2"
    }
   },
   "source": [
    "<!-- #### Renew Training Batch and Validation Batch -->"
   ]
  },
  {
   "cell_type": "markdown",
   "metadata": {
    "nbpresent": {
     "id": "66140980-2aa4-457f-b1df-74c10c234cc2"
    }
   },
   "source": [
    "<!-- #### Renew Model -->"
   ]
  }
 ],
 "metadata": {
  "kernelspec": {
   "display_name": "Python 3 (ipykernel)",
   "language": "python",
   "name": "python3"
  },
  "language_info": {
   "codemirror_mode": {
    "name": "ipython",
    "version": 3
   },
   "file_extension": ".py",
   "mimetype": "text/x-python",
   "name": "python",
   "nbconvert_exporter": "python",
   "pygments_lexer": "ipython3",
   "version": "3.8.12"
  },
  "latex_envs": {
   "LaTeX_envs_menu_present": true,
   "autoclose": false,
   "autocomplete": true,
   "bibliofile": "biblio.bib",
   "cite_by": "apalike",
   "current_citInitial": 1,
   "eqLabelWithNumbers": true,
   "eqNumInitial": 1,
   "hotkeys": {
    "equation": "Ctrl-E",
    "itemize": "Ctrl-I"
   },
   "labels_anchors": false,
   "latex_user_defs": false,
   "report_style_numbering": false,
   "user_envs_cfg": false
  },
  "toc": {
   "base_numbering": 1,
   "nav_menu": {},
   "number_sections": true,
   "sideBar": true,
   "skip_h1_title": false,
   "title_cell": "Table of Contents",
   "title_sidebar": "Contents",
   "toc_cell": false,
   "toc_position": {},
   "toc_section_display": true,
   "toc_window_display": false
  },
  "varInspector": {
   "cols": {
    "lenName": 16,
    "lenType": 16,
    "lenVar": 40
   },
   "kernels_config": {
    "python": {
     "delete_cmd_postfix": "",
     "delete_cmd_prefix": "del ",
     "library": "var_list.py",
     "varRefreshCmd": "print(var_dic_list())"
    },
    "r": {
     "delete_cmd_postfix": ") ",
     "delete_cmd_prefix": "rm(",
     "library": "var_list.r",
     "varRefreshCmd": "cat(var_dic_list()) "
    }
   },
   "types_to_exclude": [
    "module",
    "function",
    "builtin_function_or_method",
    "instance",
    "_Feature"
   ],
   "window_display": false
  }
 },
 "nbformat": 4,
 "nbformat_minor": 4
}
