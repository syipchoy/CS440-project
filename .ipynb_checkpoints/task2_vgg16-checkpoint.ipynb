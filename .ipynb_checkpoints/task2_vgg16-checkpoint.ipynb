{
 "cells": [
  {
   "cell_type": "markdown",
   "metadata": {
    "nbpresent": {
     "id": "1d234e3f-af8b-4757-83f3-241b04b7a511"
    }
   },
   "source": [
    "# Class Challenge: Image Classification of COVID-19 X-rays\n",
    "# Task 2 [Total points: 30]"
   ]
  },
  {
   "cell_type": "markdown",
   "metadata": {
    "nbpresent": {
     "id": "b07b9992-b592-4871-9f9a-3b0ae5fa8b5f"
    }
   },
   "source": [
    "## Setup\n",
    "\n",
    "* This assignment involves the following packages: 'matplotlib', 'numpy', and 'sklearn'. \n",
    "\n",
    "* If you are using conda, use the following commands to install the above packages:<br>\n",
    "```shell\n",
    "conda install matplotlib\n",
    "conda install numpy\n",
    "conda install -c anaconda scikit-learn\n",
    "```\n",
    "\n",
    "* If you are using pip, use use the following commands to install the above packages: <br> \n",
    "```shell\n",
    "pip install matplotlib\n",
    "pip install numpy\n",
    "pip install sklearn\n",
    "```"
   ]
  },
  {
   "cell_type": "markdown",
   "metadata": {
    "nbpresent": {
     "id": "5516f610-f00c-43c3-bf19-4cf7ab9c089f"
    }
   },
   "source": [
    "## Data\n",
    "\n",
    "Please download the data using the following link: [COVID-19](https://drive.google.com/file/d/1Y88tgqpQ1Pjko_7rntcPowOJs_QNOrJ-/view). \n",
    "\n",
    "* After downloading 'Covid_Data_GradientCrescent.zip', unzip the file and you should see the following data structure:\n",
    "\n",
    "\n",
    "|--all<br>\n",
    "|--------train<br>\n",
    "|--------test<br>\n",
    "|--two<br>\n",
    "|--------train<br>\n",
    "|--------test<br>\n",
    "\n",
    "\n",
    "* Put the 'all' folder, the 'two' folder and this python notebook in the **same directory** so that the following code can correctly locate the data.  \n",
    "\n"
   ]
  },
  {
   "cell_type": "markdown",
   "metadata": {
    "nbpresent": {
     "id": "66140980-2aa4-457f-b1df-74c10c234cc2"
    }
   },
   "source": [
    "## [20 points] Multi-class Classification"
   ]
  },
  {
   "cell_type": "code",
   "execution_count": 42,
   "metadata": {
    "nbpresent": {
     "id": "5e05f980-3d14-4367-b3d1-664249145b13"
    },
    "scrolled": true
   },
   "outputs": [
    {
     "data": {
      "text/plain": [
       "'2.4.0-rc0'"
      ]
     },
     "execution_count": 42,
     "metadata": {},
     "output_type": "execute_result"
    }
   ],
   "source": [
    "import os\n",
    "\n",
    "import tensorflow as tf\n",
    "import numpy as np\n",
    "import matplotlib.pyplot as plt\n",
    "from tensorflow.keras.preprocessing.image import ImageDataGenerator\n",
    "from tensorflow.keras.applications.vgg16 import VGG16\n",
    "from tensorflow.keras.layers import Dense, Activation, Flatten, DenseFeatures, Conv2D, MaxPool2D, Dropout\n",
    "from tensorflow.keras import regularizers\n",
    "\n",
    "os.environ['OMP_NUM_THREADS'] = '1'\n",
    "os.environ['CUDA_VISIBLE_DEVICES'] = '-1'\n",
    "tf.__version__"
   ]
  },
  {
   "cell_type": "markdown",
   "metadata": {
    "nbpresent": {
     "id": "66140980-2aa4-457f-b1df-74c10c234cc2"
    }
   },
   "source": [
    "#### Load Image Data"
   ]
  },
  {
   "cell_type": "code",
   "execution_count": 58,
   "metadata": {
    "nbpresent": {
     "id": "58317664-8da3-4283-b3e5-35721687e7ab"
    }
   },
   "outputs": [],
   "source": [
    "DATA_LIST = os.listdir('all/train')\n",
    "DATASET_PATH  = 'all/train'\n",
    "TEST_DIR =  'all/test'\n",
    "IMAGE_SIZE    = (224, 224)\n",
    "NUM_CLASSES   = len(DATA_LIST)\n",
    "BATCH_SIZE    = 10  # try reducing batch size or freeze more layers if your GPU runs out of memory\n",
    "NUM_EPOCHS    = 50\n",
    "LEARNING_RATE = 0.0001 # start off with high rate first 0.001 and experiment with reducing it gradually "
   ]
  },
  {
   "cell_type": "markdown",
   "metadata": {
    "nbpresent": {
     "id": "66140980-2aa4-457f-b1df-74c10c234cc2"
    }
   },
   "source": [
    "#### Generate Training and Validation Batches"
   ]
  },
  {
   "cell_type": "code",
   "execution_count": 59,
   "metadata": {
    "nbpresent": {
     "id": "71760e29-2b08-4259-93f1-ebe68cd74a6d"
    }
   },
   "outputs": [
    {
     "name": "stdout",
     "output_type": "stream",
     "text": [
      "Found 215 images belonging to 4 classes.\n",
      "Found 52 images belonging to 4 classes.\n"
     ]
    },
    {
     "name": "stderr",
     "output_type": "stream",
     "text": [
      "/Users/syipchoy/miniforge3/envs/apple_tensorflow/lib/python3.8/site-packages/keras_preprocessing/image/image_data_generator.py:342: UserWarning: This ImageDataGenerator specifies `zca_whitening` which overrides setting of`featurewise_std_normalization`.\n",
      "  warnings.warn('This ImageDataGenerator specifies '\n"
     ]
    }
   ],
   "source": [
    "train_datagen = ImageDataGenerator(rescale=1./255,rotation_range=50,featurewise_center = True,\n",
    "                                   featurewise_std_normalization = True,width_shift_range=0.2,\n",
    "                                   height_shift_range=0.2,shear_range=0.25,zoom_range=0.1,\n",
    "                                   zca_whitening = True,channel_shift_range = 20,\n",
    "                                   horizontal_flip = True,vertical_flip = True,\n",
    "                                   validation_split = 0.2,fill_mode='constant')\n",
    "\n",
    "\n",
    "train_batches = train_datagen.flow_from_directory(DATASET_PATH,target_size=IMAGE_SIZE,\n",
    "                                                  shuffle=True,batch_size=BATCH_SIZE,\n",
    "                                                  subset = \"training\",seed=42,\n",
    "                                                  class_mode=\"categorical\")\n",
    "\n",
    "valid_batches = train_datagen.flow_from_directory(DATASET_PATH,target_size=IMAGE_SIZE,\n",
    "                                                  shuffle=True,batch_size=BATCH_SIZE,\n",
    "                                                  subset = \"validation\",\n",
    "                                                  seed=42,class_mode=\"categorical\")"
   ]
  },
  {
   "cell_type": "code",
   "execution_count": 34,
   "metadata": {},
   "outputs": [
    {
     "name": "stdout",
     "output_type": "stream",
     "text": [
      "<tensorflow.python.keras.preprocessing.image.DirectoryIterator object at 0x1798273d0>\n"
     ]
    }
   ],
   "source": [
    "print(train_batches)"
   ]
  },
  {
   "cell_type": "markdown",
   "metadata": {
    "nbpresent": {
     "id": "66140980-2aa4-457f-b1df-74c10c234cc2"
    }
   },
   "source": [
    "#### [10 points] Build Model\n",
    "Hint: Starting from a pre-trained model typically helps performance on a new task, e.g. starting with weights obtained by training on ImageNet. "
   ]
  },
  {
   "cell_type": "code",
   "execution_count": 60,
   "metadata": {
    "nbpresent": {
     "id": "5c52eeb2-1092-4d45-9e16-02219c82cb5e"
    }
   },
   "outputs": [
    {
     "name": "stdout",
     "output_type": "stream",
     "text": [
      "Model: \"sequential_11\"\n",
      "_________________________________________________________________\n",
      "Layer (type)                 Output Shape              Param #   \n",
      "=================================================================\n",
      "vgg16 (Functional)           (None, 7, 7, 512)         14714688  \n",
      "_________________________________________________________________\n",
      "conv2d_10 (Conv2D)           (None, 7, 7, 32)          147488    \n",
      "_________________________________________________________________\n",
      "conv2d_11 (Conv2D)           (None, 7, 7, 32)          9248      \n",
      "_________________________________________________________________\n",
      "max_pooling2d_4 (MaxPooling2 (None, 3, 3, 32)          0         \n",
      "_________________________________________________________________\n",
      "batch_normalization_4 (Batch (None, 3, 3, 32)          128       \n",
      "_________________________________________________________________\n",
      "dropout_4 (Dropout)          (None, 3, 3, 32)          0         \n",
      "_________________________________________________________________\n",
      "conv2d_12 (Conv2D)           (None, 3, 3, 128)         36992     \n",
      "_________________________________________________________________\n",
      "conv2d_13 (Conv2D)           (None, 3, 3, 128)         147584    \n",
      "_________________________________________________________________\n",
      "max_pooling2d_5 (MaxPooling2 (None, 1, 1, 128)         0         \n",
      "_________________________________________________________________\n",
      "dropout_5 (Dropout)          (None, 1, 1, 128)         0         \n",
      "_________________________________________________________________\n",
      "flatten_10 (Flatten)         (None, 128)               0         \n",
      "_________________________________________________________________\n",
      "dense_12 (Dense)             (None, 128)               16512     \n",
      "_________________________________________________________________\n",
      "dense_13 (Dense)             (None, 4)                 516       \n",
      "=================================================================\n",
      "Total params: 15,073,156\n",
      "Trainable params: 15,073,092\n",
      "Non-trainable params: 64\n",
      "_________________________________________________________________\n"
     ]
    }
   ],
   "source": [
    "#feature_columns = [:]\n",
    "\n",
    "\n",
    "\n",
    "\n",
    "model = tf.keras.models.Sequential()\n",
    "model.add(VGG16(weights='imagenet', input_shape=(224, 224, 3), include_top=False))\n",
    "model.add(Conv2D(32, (3,3), padding='same', activation='relu'))\n",
    "model.add(Conv2D(32, (3,3), padding='same', activation='relu'))\n",
    "model.add(MaxPool2D(pool_size=(2,2)))\n",
    "model.add(BatchNormalization())\n",
    "model.add(Dropout(0.3))\n",
    "model.add(Conv2D(128, (3,3), padding='same', activation='relu'))\n",
    "model.add(Conv2D(128, (3,3), padding='same', activation='relu'))\n",
    "model.add(MaxPool2D(pool_size=(2,2)))\n",
    "model.add(Dropout(0.3))\n",
    "model.add(Flatten())\n",
    "#model.add(DenseFeatures(feature_columns = feature_columns))\n",
    "model.add(Dense(128, activation='relu'))\n",
    "model.add(Dense(4, activation='softmax'))\n",
    "model.summary()\n",
    "\n",
    "model.compile(optimizer='adam',\n",
    "                loss=tf.keras.losses.CategoricalCrossentropy(),\n",
    "                metrics=['accuracy'])"
   ]
  },
  {
   "cell_type": "markdown",
   "metadata": {
    "nbpresent": {
     "id": "66140980-2aa4-457f-b1df-74c10c234cc2"
    }
   },
   "source": [
    "#### [5 points] Train Model"
   ]
  },
  {
   "cell_type": "code",
   "execution_count": 61,
   "metadata": {
    "nbpresent": {
     "id": "cdb90d24-6a23-4969-8138-f37e7050062d"
    }
   },
   "outputs": [
    {
     "name": "stdout",
     "output_type": "stream",
     "text": [
      "22\n",
      "6\n"
     ]
    },
    {
     "name": "stderr",
     "output_type": "stream",
     "text": [
      "/Users/syipchoy/miniforge3/envs/apple_tensorflow/lib/python3.8/site-packages/keras_preprocessing/image/image_data_generator.py:720: UserWarning: This ImageDataGenerator specifies `featurewise_center`, but it hasn't been fit on any training data. Fit it first by calling `.fit(numpy_data)`.\n",
      "  warnings.warn('This ImageDataGenerator specifies '\n",
      "/Users/syipchoy/miniforge3/envs/apple_tensorflow/lib/python3.8/site-packages/keras_preprocessing/image/image_data_generator.py:739: UserWarning: This ImageDataGenerator specifies `zca_whitening`, but it hasn't been fit on any training data. Fit it first by calling `.fit(numpy_data)`.\n",
      "  warnings.warn('This ImageDataGenerator specifies '\n"
     ]
    },
    {
     "name": "stdout",
     "output_type": "stream",
     "text": [
      "Epoch 1/50\n",
      "WARNING:tensorflow:AutoGraph could not transform <function Model.make_train_function.<locals>.train_function at 0x327d4cf70> and will run it as-is.\n",
      "Please report this to the TensorFlow team. When filing the bug, set the verbosity to 10 (on Linux, `export AUTOGRAPH_VERBOSITY=10`) and attach the full output.\n",
      "Cause: unsupported operand type(s) for -: 'NoneType' and 'int'\n",
      "To silence this warning, decorate the function with @tf.autograph.experimental.do_not_convert\n",
      "WARNING: AutoGraph could not transform <function Model.make_train_function.<locals>.train_function at 0x327d4cf70> and will run it as-is.\n",
      "Please report this to the TensorFlow team. When filing the bug, set the verbosity to 10 (on Linux, `export AUTOGRAPH_VERBOSITY=10`) and attach the full output.\n",
      "Cause: unsupported operand type(s) for -: 'NoneType' and 'int'\n",
      "To silence this warning, decorate the function with @tf.autograph.experimental.do_not_convert\n",
      "21/21 [==============================] - ETA: 0s - loss: 1.4790 - accuracy: 0.1843WARNING:tensorflow:AutoGraph could not transform <function Model.make_test_function.<locals>.test_function at 0x327d6b5e0> and will run it as-is.\n",
      "Please report this to the TensorFlow team. When filing the bug, set the verbosity to 10 (on Linux, `export AUTOGRAPH_VERBOSITY=10`) and attach the full output.\n",
      "Cause: unsupported operand type(s) for -: 'NoneType' and 'int'\n",
      "To silence this warning, decorate the function with @tf.autograph.experimental.do_not_convert\n",
      "WARNING: AutoGraph could not transform <function Model.make_test_function.<locals>.test_function at 0x327d6b5e0> and will run it as-is.\n",
      "Please report this to the TensorFlow team. When filing the bug, set the verbosity to 10 (on Linux, `export AUTOGRAPH_VERBOSITY=10`) and attach the full output.\n",
      "Cause: unsupported operand type(s) for -: 'NoneType' and 'int'\n",
      "To silence this warning, decorate the function with @tf.autograph.experimental.do_not_convert\n",
      "21/21 [==============================] - 100s 5s/step - loss: 1.4769 - accuracy: 0.1861 - val_loss: 32.4044 - val_accuracy: 0.2600\n",
      "Epoch 2/50\n",
      "21/21 [==============================] - 490s 24s/step - loss: 1.3358 - accuracy: 0.3565 - val_loss: 22.4173 - val_accuracy: 0.2600\n",
      "Epoch 3/50\n",
      "21/21 [==============================] - 88s 4s/step - loss: 1.2347 - accuracy: 0.3981 - val_loss: 28.1433 - val_accuracy: 0.2600\n",
      "Epoch 4/50\n",
      "21/21 [==============================] - 103s 5s/step - loss: 1.1566 - accuracy: 0.4865 - val_loss: 9.1623 - val_accuracy: 0.2600\n",
      "Epoch 5/50\n",
      "21/21 [==============================] - 103s 5s/step - loss: 1.1493 - accuracy: 0.4448 - val_loss: 2.9948 - val_accuracy: 0.3400\n",
      "Epoch 6/50\n",
      "21/21 [==============================] - 107s 5s/step - loss: 1.1722 - accuracy: 0.4078 - val_loss: 5.7798 - val_accuracy: 0.2400\n",
      "Epoch 7/50\n",
      "21/21 [==============================] - 110s 5s/step - loss: 1.1969 - accuracy: 0.4611 - val_loss: 5.0820 - val_accuracy: 0.2200\n",
      "Epoch 8/50\n",
      "21/21 [==============================] - 96s 5s/step - loss: 1.0952 - accuracy: 0.4602 - val_loss: 4.6045 - val_accuracy: 0.2200\n",
      "Epoch 9/50\n",
      "21/21 [==============================] - 60s 3s/step - loss: 1.0226 - accuracy: 0.5403 - val_loss: 28.0617 - val_accuracy: 0.2600\n",
      "Epoch 10/50\n",
      "21/21 [==============================] - 60s 3s/step - loss: 1.2031 - accuracy: 0.3843 - val_loss: 10.4970 - val_accuracy: 0.2200\n",
      "Epoch 11/50\n",
      "21/21 [==============================] - 66s 3s/step - loss: 1.0987 - accuracy: 0.4758 - val_loss: 1.8232 - val_accuracy: 0.3400\n",
      "Epoch 12/50\n",
      "21/21 [==============================] - 70s 3s/step - loss: 1.0345 - accuracy: 0.5403 - val_loss: 6.5258 - val_accuracy: 0.2400\n",
      "Epoch 13/50\n",
      "21/21 [==============================] - 73s 3s/step - loss: 1.1002 - accuracy: 0.3992 - val_loss: 17.0789 - val_accuracy: 0.2600\n",
      "Epoch 14/50\n",
      "21/21 [==============================] - 73s 4s/step - loss: 1.2294 - accuracy: 0.3868 - val_loss: 4.8710 - val_accuracy: 0.2600\n",
      "Epoch 15/50\n",
      "21/21 [==============================] - 73s 3s/step - loss: 1.0323 - accuracy: 0.4623 - val_loss: 5.3840 - val_accuracy: 0.2400\n",
      "Epoch 16/50\n",
      "21/21 [==============================] - 75s 4s/step - loss: 1.0793 - accuracy: 0.4726 - val_loss: 16.2949 - val_accuracy: 0.2600\n",
      "Epoch 17/50\n",
      "21/21 [==============================] - 79s 4s/step - loss: 1.0890 - accuracy: 0.4973 - val_loss: 25.9101 - val_accuracy: 0.2600\n",
      "Epoch 18/50\n",
      "21/21 [==============================] - 71s 3s/step - loss: 1.2704 - accuracy: 0.3914 - val_loss: 12.0940 - val_accuracy: 0.2400\n",
      "Epoch 19/50\n",
      "21/21 [==============================] - 73s 3s/step - loss: 1.1302 - accuracy: 0.4159 - val_loss: 1.8893 - val_accuracy: 0.3600\n",
      "Epoch 20/50\n",
      "21/21 [==============================] - 69s 3s/step - loss: 1.0009 - accuracy: 0.5536 - val_loss: 6.0812 - val_accuracy: 0.2400\n",
      "Epoch 21/50\n",
      "21/21 [==============================] - 69s 3s/step - loss: 1.1762 - accuracy: 0.4164 - val_loss: 10.7716 - val_accuracy: 0.2400\n",
      "Epoch 22/50\n",
      "21/21 [==============================] - 70s 3s/step - loss: 1.1149 - accuracy: 0.4880 - val_loss: 17.4796 - val_accuracy: 0.2600\n",
      "Epoch 23/50\n",
      "21/21 [==============================] - 67s 3s/step - loss: 1.1394 - accuracy: 0.4266 - val_loss: 11.6123 - val_accuracy: 0.2600\n",
      "Epoch 24/50\n",
      "21/21 [==============================] - 67s 3s/step - loss: 1.1622 - accuracy: 0.4057 - val_loss: 0.9621 - val_accuracy: 0.4600\n",
      "Epoch 25/50\n",
      "21/21 [==============================] - 68s 3s/step - loss: 1.0323 - accuracy: 0.4621 - val_loss: 2.6907 - val_accuracy: 0.2200\n",
      "Epoch 26/50\n",
      "21/21 [==============================] - 71s 3s/step - loss: 1.1337 - accuracy: 0.4553 - val_loss: 4.1519 - val_accuracy: 0.1800\n",
      "Epoch 27/50\n",
      "21/21 [==============================] - 69s 3s/step - loss: 1.0363 - accuracy: 0.4632 - val_loss: 21.8837 - val_accuracy: 0.2400\n",
      "Epoch 28/50\n",
      "21/21 [==============================] - 71s 3s/step - loss: 1.1514 - accuracy: 0.4711 - val_loss: 20.3311 - val_accuracy: 0.2600\n",
      "Epoch 29/50\n",
      "21/21 [==============================] - 70s 3s/step - loss: 1.0052 - accuracy: 0.4521 - val_loss: 14.2028 - val_accuracy: 0.2600\n",
      "Epoch 30/50\n",
      "21/21 [==============================] - 70s 3s/step - loss: 1.1343 - accuracy: 0.3626 - val_loss: 1.9347 - val_accuracy: 0.3200\n",
      "Epoch 31/50\n",
      "21/21 [==============================] - 69s 3s/step - loss: 1.0863 - accuracy: 0.4720 - val_loss: 0.9460 - val_accuracy: 0.5400\n",
      "Epoch 32/50\n",
      "21/21 [==============================] - 72s 3s/step - loss: 1.0672 - accuracy: 0.5412 - val_loss: 0.9582 - val_accuracy: 0.5000\n",
      "Epoch 33/50\n",
      "21/21 [==============================] - 72s 3s/step - loss: 1.1115 - accuracy: 0.3755 - val_loss: 1.4212 - val_accuracy: 0.3400\n",
      "Epoch 34/50\n",
      "21/21 [==============================] - 69s 3s/step - loss: 1.0521 - accuracy: 0.5021 - val_loss: 0.9544 - val_accuracy: 0.5200\n",
      "Epoch 35/50\n",
      "21/21 [==============================] - 69s 3s/step - loss: 1.0230 - accuracy: 0.5399 - val_loss: 1.5421 - val_accuracy: 0.3200\n",
      "Epoch 36/50\n",
      "21/21 [==============================] - 72s 3s/step - loss: 1.0485 - accuracy: 0.5287 - val_loss: 1.2460 - val_accuracy: 0.3200\n",
      "Epoch 37/50\n",
      "21/21 [==============================] - 72s 3s/step - loss: 1.1082 - accuracy: 0.4485 - val_loss: 1.3199 - val_accuracy: 0.4000\n",
      "Epoch 38/50\n",
      "21/21 [==============================] - 72s 3s/step - loss: 1.1685 - accuracy: 0.4606 - val_loss: 0.9883 - val_accuracy: 0.5000\n",
      "Epoch 39/50\n",
      "21/21 [==============================] - 68s 3s/step - loss: 1.0666 - accuracy: 0.4758 - val_loss: 2.5034 - val_accuracy: 0.2800\n",
      "Epoch 40/50\n",
      "21/21 [==============================] - 63s 3s/step - loss: 1.0298 - accuracy: 0.4328 - val_loss: 1.4091 - val_accuracy: 0.3000\n",
      "Epoch 41/50\n",
      "21/21 [==============================] - 63s 3s/step - loss: 1.0005 - accuracy: 0.5660 - val_loss: 1.0674 - val_accuracy: 0.3800\n",
      "Epoch 42/50\n",
      "21/21 [==============================] - 64s 3s/step - loss: 1.1466 - accuracy: 0.4288 - val_loss: 2.6754 - val_accuracy: 0.2400\n",
      "Epoch 43/50\n",
      "21/21 [==============================] - 64s 3s/step - loss: 1.0455 - accuracy: 0.4923 - val_loss: 5.5788 - val_accuracy: 0.2200\n",
      "Epoch 44/50\n",
      "21/21 [==============================] - 62s 3s/step - loss: 1.0556 - accuracy: 0.5019 - val_loss: 1.8793 - val_accuracy: 0.2800\n",
      "Epoch 45/50\n"
     ]
    },
    {
     "name": "stdout",
     "output_type": "stream",
     "text": [
      "21/21 [==============================] - 446s 22s/step - loss: 1.0179 - accuracy: 0.5410 - val_loss: 1.6646 - val_accuracy: 0.2600\n",
      "Epoch 46/50\n",
      "21/21 [==============================] - 46s 2s/step - loss: 1.1003 - accuracy: 0.4639 - val_loss: 1.4857 - val_accuracy: 0.3600\n",
      "Epoch 47/50\n",
      "21/21 [==============================] - 49s 2s/step - loss: 1.1338 - accuracy: 0.4528 - val_loss: 0.9701 - val_accuracy: 0.5000\n",
      "Epoch 48/50\n",
      "21/21 [==============================] - 54s 3s/step - loss: 1.0479 - accuracy: 0.4833 - val_loss: 1.1809 - val_accuracy: 0.3800\n",
      "Epoch 49/50\n",
      "21/21 [==============================] - 55s 3s/step - loss: 1.0926 - accuracy: 0.5482 - val_loss: 1.0755 - val_accuracy: 0.4400\n",
      "Epoch 50/50\n",
      "21/21 [==============================] - 56s 3s/step - loss: 1.2237 - accuracy: 0.4156 - val_loss: 0.9957 - val_accuracy: 0.4800\n"
     ]
    }
   ],
   "source": [
    "#FIT MODEL\n",
    "print(len(train_batches))\n",
    "print(len(valid_batches))\n",
    "\n",
    "STEP_SIZE_TRAIN=train_batches.n//train_batches.batch_size\n",
    "STEP_SIZE_VALID=valid_batches.n//valid_batches.batch_size\n",
    "\n",
    "history = model.fit(train_batches, steps_per_epoch=STEP_SIZE_TRAIN, validation_data = valid_batches, \n",
    "                             validation_steps = STEP_SIZE_VALID, epochs = NUM_EPOCHS)"
   ]
  },
  {
   "cell_type": "markdown",
   "metadata": {
    "nbpresent": {
     "id": "66140980-2aa4-457f-b1df-74c10c234cc2"
    }
   },
   "source": [
    "#### [5 points] Plot Accuracy and Loss During Training"
   ]
  },
  {
   "cell_type": "code",
   "execution_count": 62,
   "metadata": {
    "nbpresent": {
     "id": "ff342098-784a-4e20-ac34-b74ca8ebe839"
    }
   },
   "outputs": [
    {
     "data": {
      "text/plain": [
       "<matplotlib.legend.Legend at 0x29fa51460>"
      ]
     },
     "execution_count": 62,
     "metadata": {},
     "output_type": "execute_result"
    },
    {
     "data": {
      "image/png": "[encoded data removed]",
      "text/plain": [
       "<Figure size 432x288 with 1 Axes>"
      ]
     },
     "metadata": {
      "needs_background": "light"
     },
     "output_type": "display_data"
    }
   ],
   "source": [
    "import matplotlib.pyplot as plt\n",
    "\n",
    "plt.plot(history.history['accuracy'], label='accuracy')\n",
    "plt.plot(history.history['val_accuracy'], label = 'validation accuracy')\n",
    "plt.title(\"Accuracy over 50 Epochs\")\n",
    "plt.xlabel('Epoch')\n",
    "plt.ylabel('Accuracy')\n",
    "plt.ylim([0, .65])\n",
    "plt.legend(loc='lower right')"
   ]
  },
  {
   "cell_type": "code",
   "execution_count": 63,
   "metadata": {},
   "outputs": [
    {
     "data": {
      "text/plain": [
       "<matplotlib.legend.Legend at 0x29ad643a0>"
      ]
     },
     "execution_count": 63,
     "metadata": {},
     "output_type": "execute_result"
    },
    {
     "data": {
      "image/png": "[encoded data removed]",
      "text/plain": [
       "<Figure size 432x288 with 1 Axes>"
      ]
     },
     "metadata": {
      "needs_background": "light"
     },
     "output_type": "display_data"
    }
   ],
   "source": [
    "plt.plot(history.history['loss'], label='loss')\n",
    "plt.plot(history.history['val_loss'], label = 'validation loss')\n",
    "plt.title(\"Loss over 50 Epochs\")\n",
    "plt.xlabel('Epoch')\n",
    "plt.ylabel('Loss')\n",
    "plt.ylim([0, 20])\n",
    "plt.legend(loc='lower right')"
   ]
  },
  {
   "cell_type": "markdown",
   "metadata": {
    "nbpresent": {
     "id": "66140980-2aa4-457f-b1df-74c10c234cc2"
    }
   },
   "source": [
    "#### Testing Model"
   ]
  },
  {
   "cell_type": "code",
   "execution_count": 64,
   "metadata": {},
   "outputs": [
    {
     "name": "stdout",
     "output_type": "stream",
     "text": [
      "Found 36 images belonging to 4 classes.\n",
      "36\n"
     ]
    },
    {
     "name": "stderr",
     "output_type": "stream",
     "text": [
      "/Users/syipchoy/miniforge3/envs/apple_tensorflow/lib/python3.8/site-packages/tensorflow/python/keras/engine/training.py:1877: UserWarning: `Model.evaluate_generator` is deprecated and will be removed in a future version. Please use `Model.evaluate`, which supports generators.\n",
      "  warnings.warn('`Model.evaluate_generator` is deprecated and '\n"
     ]
    },
    {
     "name": "stdout",
     "output_type": "stream",
     "text": [
      "36/36 [==============================] - 2s 43ms/step - loss: 1.3890 - accuracy: 0.3889\n",
      "Test loss: 1.3889726400375366\n",
      "Test accuracy: 0.3888888955116272\n"
     ]
    }
   ],
   "source": [
    "test_datagen = ImageDataGenerator(rescale=1. / 255)\n",
    "\n",
    "eval_generator = test_datagen.flow_from_directory(TEST_DIR,target_size=IMAGE_SIZE,\n",
    "                                                  batch_size=1,shuffle=False,seed=42,class_mode=\"categorical\")\n",
    "eval_generator.reset()\n",
    "print(len(eval_generator))\n",
    "x = model.evaluate_generator(eval_generator,steps = np.ceil(len(eval_generator)),\n",
    "                           use_multiprocessing = False,verbose = 1,workers=1)\n",
    "print('Test loss:' , x[0])\n",
    "print('Test accuracy:',x[1])"
   ]
  },
  {
   "cell_type": "markdown",
   "metadata": {
    "nbpresent": {
     "id": "66140980-2aa4-457f-b1df-74c10c234cc2"
    }
   },
   "source": [
    "## [10 points] TSNE Plot\n",
    "t-Distributed Stochastic Neighbor Embedding (t-SNE) is a widely used technique for dimensionality reduction that is particularly well suited for the visualization of high-dimensional datasets. After training is complete, extract features from a specific deep layer of your choice, use t-SNE to reduce the dimensionality of your extracted features to 2 dimensions and plot the resulting 2D features."
   ]
  },
  {
   "cell_type": "code",
   "execution_count": 66,
   "metadata": {},
   "outputs": [
    {
     "name": "stdout",
     "output_type": "stream",
     "text": [
      "Found 267 images belonging to 4 classes.\n",
      "WARNING:tensorflow:AutoGraph could not transform <function Model.make_predict_function.<locals>.predict_function at 0x29adb49d0> and will run it as-is.\n",
      "Please report this to the TensorFlow team. When filing the bug, set the verbosity to 10 (on Linux, `export AUTOGRAPH_VERBOSITY=10`) and attach the full output.\n",
      "Cause: unsupported operand type(s) for -: 'NoneType' and 'int'\n",
      "To silence this warning, decorate the function with @tf.autograph.experimental.do_not_convert\n",
      "WARNING: AutoGraph could not transform <function Model.make_predict_function.<locals>.predict_function at 0x29adb49d0> and will run it as-is.\n",
      "Please report this to the TensorFlow team. When filing the bug, set the verbosity to 10 (on Linux, `export AUTOGRAPH_VERBOSITY=10`) and attach the full output.\n",
      "Cause: unsupported operand type(s) for -: 'NoneType' and 'int'\n",
      "To silence this warning, decorate the function with @tf.autograph.experimental.do_not_convert\n"
     ]
    },
    {
     "name": "stderr",
     "output_type": "stream",
     "text": [
      "/Users/syipchoy/miniforge3/envs/apple_tensorflow/lib/python3.8/site-packages/sklearn/manifold/_t_sne.py:780: FutureWarning: The default initialization in TSNE will change from 'random' to 'pca' in 1.2.\n",
      "  warnings.warn(\n",
      "/Users/syipchoy/miniforge3/envs/apple_tensorflow/lib/python3.8/site-packages/sklearn/manifold/_t_sne.py:790: FutureWarning: The default learning rate in TSNE will change from 200.0 to 'auto' in 1.2.\n",
      "  warnings.warn(\n"
     ]
    }
   ],
   "source": [
    "from sklearn.manifold import TSNE\n",
    "from tensorflow.keras.models import Model\n",
    "import seaborn as sns\n",
    "import pandas as pd\n",
    "\n",
    "intermediate_layer_model = Model(inputs=model.input,\n",
    "                                        outputs=model.get_layer('dense_12').output)\n",
    "\n",
    "tsne_eval_generator = test_datagen.flow_from_directory(DATASET_PATH,target_size=IMAGE_SIZE,\n",
    "                                                  batch_size=1,shuffle=True,seed=42,class_mode=\"categorical\")\n",
    "\n",
    "intermediate_output = intermediate_layer_model.predict(tsne_eval_generator)\n",
    "\n",
    "tsne = TSNE(n_components=2, random_state=0)\n",
    "z = tsne.fit_transform(intermediate_output)\n",
    "\n",
    "\n",
    "#raise NotImplementedError(\"Extract features from the tsne_data_generator and fit a t-SNE model for the features,\"\n",
    "                          #\"and plot the resulting 2D features of the four classes.\")"
   ]
  },
  {
   "cell_type": "code",
   "execution_count": 67,
   "metadata": {},
   "outputs": [],
   "source": [
    "color = []\n",
    "\n",
    "def get_color(x):\n",
    "    if (x < -17): \n",
    "        return \"blue\"\n",
    "    elif (x < 0): \n",
    "        return \"red\"\n",
    "    elif (x < 16): \n",
    "        return \"yellow\"\n",
    "    else: \n",
    "        return \"green\"\n",
    "    \n",
    "for point in z[:,0]: \n",
    "    color.append(get_color(point))"
   ]
  },
  {
   "cell_type": "code",
   "execution_count": 55,
   "metadata": {},
   "outputs": [
    {
     "data": {
      "text/plain": [
       "<matplotlib.collections.PathCollection at 0x327bfa2e0>"
      ]
     },
     "execution_count": 55,
     "metadata": {},
     "output_type": "execute_result"
    },
    {
     "data": {
      "image/png": "[encoded data removed]",
      "text/plain": [
       "<Figure size 432x288 with 1 Axes>"
      ]
     },
     "metadata": {
      "needs_background": "light"
     },
     "output_type": "display_data"
    }
   ],
   "source": [
    "plt.title(\"t-SNE Plot for dense layer\")\n",
    "plt.scatter(z[:,0], z[:,1], c=color)"
   ]
  },
  {
   "cell_type": "markdown",
   "metadata": {},
   "source": [
    "<!-- ## Task 2: COVID-19 vs Normal vs Tertiary Pneumonia (Bacterial and Viral) -->"
   ]
  },
  {
   "cell_type": "markdown",
   "metadata": {
    "nbpresent": {
     "id": "66140980-2aa4-457f-b1df-74c10c234cc2"
    }
   },
   "source": [
    "<!-- #### Renew Training Batch and Validation Batch -->"
   ]
  },
  {
   "cell_type": "markdown",
   "metadata": {
    "nbpresent": {
     "id": "66140980-2aa4-457f-b1df-74c10c234cc2"
    }
   },
   "source": [
    "<!-- #### Renew Model -->"
   ]
  }
 ],
 "metadata": {
  "kernelspec": {
   "display_name": "Python 3 (ipykernel)",
   "language": "python",
   "name": "python3"
  },
  "language_info": {
   "codemirror_mode": {
    "name": "ipython",
    "version": 3
   },
   "file_extension": ".py",
   "mimetype": "text/x-python",
   "name": "python",
   "nbconvert_exporter": "python",
   "pygments_lexer": "ipython3",
   "version": "3.8.12"
  },
  "latex_envs": {
   "LaTeX_envs_menu_present": true,
   "autoclose": false,
   "autocomplete": true,
   "bibliofile": "biblio.bib",
   "cite_by": "apalike",
   "current_citInitial": 1,
   "eqLabelWithNumbers": true,
   "eqNumInitial": 1,
   "hotkeys": {
    "equation": "Ctrl-E",
    "itemize": "Ctrl-I"
   },
   "labels_anchors": false,
   "latex_user_defs": false,
   "report_style_numbering": false,
   "user_envs_cfg": false
  },
  "toc": {
   "base_numbering": 1,
   "nav_menu": {},
   "number_sections": true,
   "sideBar": true,
   "skip_h1_title": false,
   "title_cell": "Table of Contents",
   "title_sidebar": "Contents",
   "toc_cell": false,
   "toc_position": {},
   "toc_section_display": true,
   "toc_window_display": false
  },
  "varInspector": {
   "cols": {
    "lenName": 16,
    "lenType": 16,
    "lenVar": 40
   },
   "kernels_config": {
    "python": {
     "delete_cmd_postfix": "",
     "delete_cmd_prefix": "del ",
     "library": "var_list.py",
     "varRefreshCmd": "print(var_dic_list())"
    },
    "r": {
     "delete_cmd_postfix": ") ",
     "delete_cmd_prefix": "rm(",
     "library": "var_list.r",
     "varRefreshCmd": "cat(var_dic_list()) "
    }
   },
   "types_to_exclude": [
    "module",
    "function",
    "builtin_function_or_method",
    "instance",
    "_Feature"
   ],
   "window_display": false
  }
 },
 "nbformat": 4,
 "nbformat_minor": 4
}
