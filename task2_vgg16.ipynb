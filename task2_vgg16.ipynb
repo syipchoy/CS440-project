{
 "cells": [
  {
   "cell_type": "markdown",
   "metadata": {
    "nbpresent": {
     "id": "1d234e3f-af8b-4757-83f3-241b04b7a511"
    }
   },
   "source": [
    "# Class Challenge: Image Classification of COVID-19 X-rays\n",
    "# Task 2 [Total points: 30]"
   ]
  },
  {
   "cell_type": "markdown",
   "metadata": {
    "nbpresent": {
     "id": "b07b9992-b592-4871-9f9a-3b0ae5fa8b5f"
    }
   },
   "source": [
    "## Setup\n",
    "\n",
    "* This assignment involves the following packages: 'matplotlib', 'numpy', and 'sklearn'. \n",
    "\n",
    "* If you are using conda, use the following commands to install the above packages:<br>\n",
    "```shell\n",
    "conda install matplotlib\n",
    "conda install numpy\n",
    "conda install -c anaconda scikit-learn\n",
    "```\n",
    "\n",
    "* If you are using pip, use use the following commands to install the above packages: <br> \n",
    "```shell\n",
    "pip install matplotlib\n",
    "pip install numpy\n",
    "pip install sklearn\n",
    "```"
   ]
  },
  {
   "cell_type": "markdown",
   "metadata": {
    "nbpresent": {
     "id": "5516f610-f00c-43c3-bf19-4cf7ab9c089f"
    }
   },
   "source": [
    "## Data\n",
    "\n",
    "Please download the data using the following link: [COVID-19](https://drive.google.com/file/d/1Y88tgqpQ1Pjko_7rntcPowOJs_QNOrJ-/view). \n",
    "\n",
    "* After downloading 'Covid_Data_GradientCrescent.zip', unzip the file and you should see the following data structure:\n",
    "\n",
    "\n",
    "|--all<br>\n",
    "|--------train<br>\n",
    "|--------test<br>\n",
    "|--two<br>\n",
    "|--------train<br>\n",
    "|--------test<br>\n",
    "\n",
    "\n",
    "* Put the 'all' folder, the 'two' folder and this python notebook in the **same directory** so that the following code can correctly locate the data.  \n",
    "\n"
   ]
  },
  {
   "cell_type": "markdown",
   "metadata": {
    "nbpresent": {
     "id": "66140980-2aa4-457f-b1df-74c10c234cc2"
    }
   },
   "source": [
    "## [20 points] Multi-class Classification"
   ]
  },
  {
   "cell_type": "code",
   "execution_count": 6,
   "metadata": {
    "nbpresent": {
     "id": "5e05f980-3d14-4367-b3d1-664249145b13"
    },
    "scrolled": true
   },
   "outputs": [
    {
     "data": {
      "text/plain": [
       "'2.4.0-rc0'"
      ]
     },
     "execution_count": 6,
     "metadata": {},
     "output_type": "execute_result"
    }
   ],
   "source": [
    "import os\n",
    "\n",
    "import tensorflow as tf\n",
    "import numpy as np\n",
    "import matplotlib.pyplot as plt\n",
    "from tensorflow.keras.preprocessing.image import ImageDataGenerator\n",
    "from tensorflow.keras.applications.vgg16 import VGG16\n",
    "from tensorflow.keras.layers import Dense, Activation, Flatten, DenseFeatures, Conv2D, MaxPool2D, Dropout, BatchNormalization\n",
    "from tensorflow.keras import regularizers\n",
    "\n",
    "os.environ['OMP_NUM_THREADS'] = '1'\n",
    "os.environ['CUDA_VISIBLE_DEVICES'] = '-1'\n",
    "tf.__version__"
   ]
  },
  {
   "cell_type": "markdown",
   "metadata": {
    "nbpresent": {
     "id": "66140980-2aa4-457f-b1df-74c10c234cc2"
    }
   },
   "source": [
    "#### Load Image Data"
   ]
  },
  {
   "cell_type": "code",
   "execution_count": 7,
   "metadata": {
    "nbpresent": {
     "id": "58317664-8da3-4283-b3e5-35721687e7ab"
    }
   },
   "outputs": [],
   "source": [
    "DATA_LIST = os.listdir('all/train')\n",
    "DATASET_PATH  = 'all/train'\n",
    "TEST_DIR =  'all/test'\n",
    "IMAGE_SIZE    = (224, 224)\n",
    "NUM_CLASSES   = len(DATA_LIST)\n",
    "BATCH_SIZE    = 10  # try reducing batch size or freeze more layers if your GPU runs out of memory\n",
    "NUM_EPOCHS    = 50\n",
    "LEARNING_RATE = 0.0001 # start off with high rate first 0.001 and experiment with reducing it gradually "
   ]
  },
  {
   "cell_type": "markdown",
   "metadata": {
    "nbpresent": {
     "id": "66140980-2aa4-457f-b1df-74c10c234cc2"
    }
   },
   "source": [
    "#### Generate Training and Validation Batches"
   ]
  },
  {
   "cell_type": "code",
   "execution_count": 8,
   "metadata": {
    "nbpresent": {
     "id": "71760e29-2b08-4259-93f1-ebe68cd74a6d"
    }
   },
   "outputs": [
    {
     "name": "stdout",
     "output_type": "stream",
     "text": [
      "Found 215 images belonging to 4 classes.\n",
      "Found 52 images belonging to 4 classes.\n"
     ]
    }
   ],
   "source": [
    "train_datagen = ImageDataGenerator(rescale=1./255,rotation_range=50,featurewise_center = True,\n",
    "                                   featurewise_std_normalization = True,width_shift_range=0.2,\n",
    "                                   height_shift_range=0.2,shear_range=0.25,zoom_range=0.1,\n",
    "                                   zca_whitening = True,channel_shift_range = 20,\n",
    "                                   horizontal_flip = True,vertical_flip = True,\n",
    "                                   validation_split = 0.2,fill_mode='constant')\n",
    "\n",
    "\n",
    "train_batches = train_datagen.flow_from_directory(DATASET_PATH,target_size=IMAGE_SIZE,\n",
    "                                                  shuffle=True,batch_size=BATCH_SIZE,\n",
    "                                                  subset = \"training\",seed=42,\n",
    "                                                  class_mode=\"categorical\")\n",
    "\n",
    "valid_batches = train_datagen.flow_from_directory(DATASET_PATH,target_size=IMAGE_SIZE,\n",
    "                                                  shuffle=True,batch_size=BATCH_SIZE,\n",
    "                                                  subset = \"validation\",\n",
    "                                                  seed=42,class_mode=\"categorical\")"
   ]
  },
  {
   "cell_type": "code",
   "execution_count": 34,
   "metadata": {},
   "outputs": [
    {
     "name": "stdout",
     "output_type": "stream",
     "text": [
      "<tensorflow.python.keras.preprocessing.image.DirectoryIterator object at 0x1798273d0>\n"
     ]
    }
   ],
   "source": [
    "print(train_batches)"
   ]
  },
  {
   "cell_type": "markdown",
   "metadata": {
    "nbpresent": {
     "id": "66140980-2aa4-457f-b1df-74c10c234cc2"
    }
   },
   "source": [
    "#### [10 points] Build Model\n",
    "Hint: Starting from a pre-trained model typically helps performance on a new task, e.g. starting with weights obtained by training on ImageNet. "
   ]
  },
  {
   "cell_type": "code",
   "execution_count": 9,
   "metadata": {
    "nbpresent": {
     "id": "5c52eeb2-1092-4d45-9e16-02219c82cb5e"
    }
   },
   "outputs": [
    {
     "name": "stdout",
     "output_type": "stream",
     "text": [
      "Model: \"sequential_1\"\n",
      "_________________________________________________________________\n",
      "Layer (type)                 Output Shape              Param #   \n",
      "=================================================================\n",
      "vgg16 (Functional)           (None, 7, 7, 512)         14714688  \n",
      "_________________________________________________________________\n",
      "conv2d_2 (Conv2D)            (None, 7, 7, 32)          147488    \n",
      "_________________________________________________________________\n",
      "conv2d_3 (Conv2D)            (None, 7, 7, 32)          9248      \n",
      "_________________________________________________________________\n",
      "max_pooling2d_1 (MaxPooling2 (None, 3, 3, 32)          0         \n",
      "_________________________________________________________________\n",
      "batch_normalization (BatchNo (None, 3, 3, 32)          128       \n",
      "_________________________________________________________________\n",
      "dropout (Dropout)            (None, 3, 3, 32)          0         \n",
      "_________________________________________________________________\n",
      "conv2d_4 (Conv2D)            (None, 3, 3, 128)         36992     \n",
      "_________________________________________________________________\n",
      "conv2d_5 (Conv2D)            (None, 3, 3, 128)         147584    \n",
      "_________________________________________________________________\n",
      "max_pooling2d_2 (MaxPooling2 (None, 1, 1, 128)         0         \n",
      "_________________________________________________________________\n",
      "dropout_1 (Dropout)          (None, 1, 1, 128)         0         \n",
      "_________________________________________________________________\n",
      "flatten (Flatten)            (None, 128)               0         \n",
      "_________________________________________________________________\n",
      "dense (Dense)                (None, 256)               33024     \n",
      "_________________________________________________________________\n",
      "dense_1 (Dense)              (None, 4)                 1028      \n",
      "=================================================================\n",
      "Total params: 15,090,180\n",
      "Trainable params: 15,090,116\n",
      "Non-trainable params: 64\n",
      "_________________________________________________________________\n"
     ]
    }
   ],
   "source": [
    "#feature_columns = [:]\n",
    "\n",
    "\n",
    "\n",
    "\n",
    "model = tf.keras.models.Sequential()\n",
    "model.add(VGG16(weights='imagenet', input_shape=(224, 224, 3), include_top=False))\n",
    "model.add(Conv2D(32, (3,3), padding='same', activation='relu'))\n",
    "model.add(Conv2D(32, (3,3), padding='same', activation='relu'))\n",
    "model.add(MaxPool2D(pool_size=(2,2)))\n",
    "model.add(BatchNormalization())\n",
    "model.add(Dropout(0.3))\n",
    "model.add(Conv2D(128, (3,3), padding='same', activation='relu'))\n",
    "model.add(Conv2D(128, (3,3), padding='same', activation='relu'))\n",
    "model.add(MaxPool2D(pool_size=(2,2)))\n",
    "model.add(Dropout(0.3))\n",
    "model.add(Flatten())\n",
    "#model.add(DenseFeatures(feature_columns = feature_columns))\n",
    "model.add(Dense(256, activation='relu'))\n",
    "model.add(Dense(4, activation='softmax'))\n",
    "model.summary()\n",
    "\n",
    "model.compile(optimizer='adam',\n",
    "                loss=tf.keras.losses.CategoricalCrossentropy(),\n",
    "                metrics=['accuracy'])"
   ]
  },
  {
   "cell_type": "markdown",
   "metadata": {
    "nbpresent": {
     "id": "66140980-2aa4-457f-b1df-74c10c234cc2"
    }
   },
   "source": [
    "#### [5 points] Train Model"
   ]
  },
  {
   "cell_type": "code",
   "execution_count": 11,
   "metadata": {
    "nbpresent": {
     "id": "cdb90d24-6a23-4969-8138-f37e7050062d"
    }
   },
   "outputs": [
    {
     "name": "stdout",
     "output_type": "stream",
     "text": [
      "22\n",
      "6\n",
      "Epoch 1/50\n",
      "21/21 [==============================] - ETA: 0s - loss: 1.2624 - accuracy: 0.3902WARNING:tensorflow:AutoGraph could not transform <function Model.make_test_function.<locals>.test_function at 0x17ffa8ee0> and will run it as-is.\n",
      "Please report this to the TensorFlow team. When filing the bug, set the verbosity to 10 (on Linux, `export AUTOGRAPH_VERBOSITY=10`) and attach the full output.\n",
      "Cause: unsupported operand type(s) for -: 'NoneType' and 'int'\n",
      "To silence this warning, decorate the function with @tf.autograph.experimental.do_not_convert\n",
      "WARNING: AutoGraph could not transform <function Model.make_test_function.<locals>.test_function at 0x17ffa8ee0> and will run it as-is.\n",
      "Please report this to the TensorFlow team. When filing the bug, set the verbosity to 10 (on Linux, `export AUTOGRAPH_VERBOSITY=10`) and attach the full output.\n",
      "Cause: unsupported operand type(s) for -: 'NoneType' and 'int'\n",
      "To silence this warning, decorate the function with @tf.autograph.experimental.do_not_convert\n",
      "21/21 [==============================] - 65s 3s/step - loss: 1.2624 - accuracy: 0.3902 - val_loss: 60.1602 - val_accuracy: 0.2600\n",
      "Epoch 2/50\n",
      "21/21 [==============================] - 74s 4s/step - loss: 1.2049 - accuracy: 0.4049 - val_loss: 10.1124 - val_accuracy: 0.2800\n",
      "Epoch 3/50\n",
      "21/21 [==============================] - 82s 4s/step - loss: 1.2137 - accuracy: 0.4293 - val_loss: 41.5774 - val_accuracy: 0.2600\n",
      "Epoch 4/50\n",
      "21/21 [==============================] - 78s 4s/step - loss: 1.1354 - accuracy: 0.4780 - val_loss: 33.7077 - val_accuracy: 0.2600\n",
      "Epoch 5/50\n",
      "21/21 [==============================] - 79s 4s/step - loss: 1.2261 - accuracy: 0.4524 - val_loss: 24.0683 - val_accuracy: 0.2600\n",
      "Epoch 6/50\n",
      "21/21 [==============================] - 79s 4s/step - loss: 1.1994 - accuracy: 0.4195 - val_loss: 17.1608 - val_accuracy: 0.2400\n",
      "Epoch 7/50\n",
      "21/21 [==============================] - 80s 4s/step - loss: 1.1003 - accuracy: 0.5024 - val_loss: 16.3797 - val_accuracy: 0.2200\n",
      "Epoch 8/50\n",
      "21/21 [==============================] - 85s 4s/step - loss: 1.1325 - accuracy: 0.4293 - val_loss: 6.7052 - val_accuracy: 0.2200\n",
      "Epoch 9/50\n",
      "21/21 [==============================] - 88s 4s/step - loss: 1.2052 - accuracy: 0.4293 - val_loss: 1.3692 - val_accuracy: 0.4400\n",
      "Epoch 10/50\n",
      "21/21 [==============================] - 88s 4s/step - loss: 1.1473 - accuracy: 0.4244 - val_loss: 1.6949 - val_accuracy: 0.2600\n",
      "Epoch 11/50\n",
      "21/21 [==============================] - 87s 4s/step - loss: 1.1394 - accuracy: 0.4049 - val_loss: 7.8204 - val_accuracy: 0.2600\n",
      "Epoch 12/50\n",
      "21/21 [==============================] - 83s 4s/step - loss: 1.1313 - accuracy: 0.4488 - val_loss: 30.1248 - val_accuracy: 0.2400\n",
      "Epoch 13/50\n",
      "21/21 [==============================] - 81s 4s/step - loss: 1.1530 - accuracy: 0.4244 - val_loss: 14.2940 - val_accuracy: 0.2600\n",
      "Epoch 14/50\n",
      "21/21 [==============================] - 68s 3s/step - loss: 1.1099 - accuracy: 0.4585 - val_loss: 5.8007 - val_accuracy: 0.2600\n",
      "Epoch 15/50\n",
      "21/21 [==============================] - 64s 3s/step - loss: 1.1300 - accuracy: 0.4927 - val_loss: 11.6194 - val_accuracy: 0.2400\n",
      "Epoch 16/50\n",
      "21/21 [==============================] - 63s 3s/step - loss: 1.1263 - accuracy: 0.4341 - val_loss: 1.8710 - val_accuracy: 0.3000\n",
      "Epoch 17/50\n",
      "21/21 [==============================] - 63s 3s/step - loss: 1.0944 - accuracy: 0.4732 - val_loss: 9.5845 - val_accuracy: 0.2600\n",
      "Epoch 18/50\n",
      "21/21 [==============================] - 63s 3s/step - loss: 1.1336 - accuracy: 0.4780 - val_loss: 9.1119 - val_accuracy: 0.2400\n",
      "Epoch 19/50\n",
      "21/21 [==============================] - 63s 3s/step - loss: 1.1440 - accuracy: 0.4439 - val_loss: 3.2091 - val_accuracy: 0.3000\n",
      "Epoch 20/50\n",
      "21/21 [==============================] - 62s 3s/step - loss: 1.1541 - accuracy: 0.4683 - val_loss: 1.3641 - val_accuracy: 0.4000\n",
      "Epoch 21/50\n",
      "21/21 [==============================] - 62s 3s/step - loss: 1.1669 - accuracy: 0.4683 - val_loss: 6.5642 - val_accuracy: 0.2400\n",
      "Epoch 22/50\n",
      "21/21 [==============================] - 147s 7s/step - loss: 1.0835 - accuracy: 0.4439 - val_loss: 9.1330 - val_accuracy: 0.2600\n",
      "Epoch 23/50\n",
      "21/21 [==============================] - 48s 2s/step - loss: 1.1435 - accuracy: 0.4634 - val_loss: 9.0880 - val_accuracy: 0.2600\n",
      "Epoch 24/50\n",
      "21/21 [==============================] - 53s 3s/step - loss: 1.0781 - accuracy: 0.4634 - val_loss: 8.8303 - val_accuracy: 0.2400\n",
      "Epoch 25/50\n",
      "21/21 [==============================] - 55s 3s/step - loss: 1.0760 - accuracy: 0.4780 - val_loss: 6.5290 - val_accuracy: 0.2400\n",
      "Epoch 26/50\n",
      "21/21 [==============================] - 56s 3s/step - loss: 1.0592 - accuracy: 0.5024 - val_loss: 1.7913 - val_accuracy: 0.3600\n",
      "Epoch 27/50\n",
      "21/21 [==============================] - 57s 3s/step - loss: 1.1995 - accuracy: 0.4341 - val_loss: 8.0217 - val_accuracy: 0.2400\n",
      "Epoch 28/50\n",
      "21/21 [==============================] - 57s 3s/step - loss: 1.1273 - accuracy: 0.4585 - val_loss: 3.7046 - val_accuracy: 0.2600\n",
      "Epoch 29/50\n",
      "21/21 [==============================] - 57s 3s/step - loss: 1.0723 - accuracy: 0.4683 - val_loss: 5.4182 - val_accuracy: 0.2600\n",
      "Epoch 30/50\n",
      "21/21 [==============================] - 72s 3s/step - loss: 1.0782 - accuracy: 0.4976 - val_loss: 4.9241 - val_accuracy: 0.2600\n",
      "Epoch 31/50\n",
      "21/21 [==============================] - 72s 3s/step - loss: 1.1495 - accuracy: 0.4780 - val_loss: 1.1971 - val_accuracy: 0.4400\n",
      "Epoch 32/50\n",
      "21/21 [==============================] - 69s 3s/step - loss: 1.1398 - accuracy: 0.4488 - val_loss: 3.1771 - val_accuracy: 0.2600\n",
      "Epoch 33/50\n",
      "21/21 [==============================] - 71s 3s/step - loss: 1.1329 - accuracy: 0.5024 - val_loss: 1.5255 - val_accuracy: 0.3400\n",
      "Epoch 34/50\n",
      "21/21 [==============================] - 73s 3s/step - loss: 1.0536 - accuracy: 0.4146 - val_loss: 0.9390 - val_accuracy: 0.5000\n",
      "Epoch 35/50\n",
      "21/21 [==============================] - 73s 3s/step - loss: 1.1184 - accuracy: 0.4634 - val_loss: 1.0265 - val_accuracy: 0.5000\n",
      "Epoch 36/50\n",
      "21/21 [==============================] - 68s 3s/step - loss: 1.0899 - accuracy: 0.4927 - val_loss: 1.1517 - val_accuracy: 0.4200\n",
      "Epoch 37/50\n",
      "21/21 [==============================] - 63s 3s/step - loss: 1.0617 - accuracy: 0.5024 - val_loss: 0.9360 - val_accuracy: 0.5200\n",
      "Epoch 38/50\n",
      "21/21 [==============================] - 62s 3s/step - loss: 1.1768 - accuracy: 0.3902 - val_loss: 0.9890 - val_accuracy: 0.4600\n",
      "Epoch 39/50\n",
      "21/21 [==============================] - 62s 3s/step - loss: 1.0588 - accuracy: 0.4829 - val_loss: 3.7718 - val_accuracy: 0.2800\n",
      "Epoch 40/50\n",
      "21/21 [==============================] - 62s 3s/step - loss: 1.0188 - accuracy: 0.4634 - val_loss: 6.1291 - val_accuracy: 0.2400\n",
      "Epoch 41/50\n",
      "21/21 [==============================] - 61s 3s/step - loss: 1.0974 - accuracy: 0.4829 - val_loss: 7.8673 - val_accuracy: 0.2400\n",
      "Epoch 42/50\n",
      "21/21 [==============================] - 64s 3s/step - loss: 1.1595 - accuracy: 0.4537 - val_loss: 7.1719 - val_accuracy: 0.2400\n",
      "Epoch 43/50\n",
      "21/21 [==============================] - 66s 3s/step - loss: 1.0903 - accuracy: 0.4634 - val_loss: 1.3575 - val_accuracy: 0.3200\n",
      "Epoch 44/50\n",
      "21/21 [==============================] - 65s 3s/step - loss: 1.0406 - accuracy: 0.4878 - val_loss: 0.9392 - val_accuracy: 0.4600\n",
      "Epoch 45/50\n",
      "21/21 [==============================] - 61s 3s/step - loss: 1.1304 - accuracy: 0.4000 - val_loss: 0.9939 - val_accuracy: 0.5000\n",
      "Epoch 46/50\n",
      "21/21 [==============================] - 60s 3s/step - loss: 1.1158 - accuracy: 0.4780 - val_loss: 1.4072 - val_accuracy: 0.3600\n",
      "Epoch 47/50\n",
      "21/21 [==============================] - 60s 3s/step - loss: 1.1148 - accuracy: 0.4878 - val_loss: 1.0844 - val_accuracy: 0.4600\n",
      "Epoch 48/50\n",
      "21/21 [==============================] - 60s 3s/step - loss: 1.0818 - accuracy: 0.4585 - val_loss: 0.9760 - val_accuracy: 0.5200\n",
      "Epoch 49/50\n",
      "21/21 [==============================] - 60s 3s/step - loss: 1.1657 - accuracy: 0.4732 - val_loss: 5.1268 - val_accuracy: 0.2600\n",
      "Epoch 50/50\n",
      "21/21 [==============================] - 64s 3s/step - loss: 1.1463 - accuracy: 0.4878 - val_loss: 7.9577 - val_accuracy: 0.2400\n"
     ]
    }
   ],
   "source": [
    "#FIT MODEL\n",
    "print(len(train_batches))\n",
    "print(len(valid_batches))\n",
    "\n",
    "STEP_SIZE_TRAIN=train_batches.n//train_batches.batch_size\n",
    "STEP_SIZE_VALID=valid_batches.n//valid_batches.batch_size\n",
    "\n",
    "history = model.fit(train_batches, steps_per_epoch=STEP_SIZE_TRAIN, validation_data = valid_batches, \n",
    "                             validation_steps = STEP_SIZE_VALID, epochs = NUM_EPOCHS)"
   ]
  },
  {
   "cell_type": "markdown",
   "metadata": {
    "nbpresent": {
     "id": "66140980-2aa4-457f-b1df-74c10c234cc2"
    }
   },
   "source": [
    "#### [5 points] Plot Accuracy and Loss During Training"
   ]
  },
  {
   "cell_type": "code",
   "execution_count": 12,
   "metadata": {
    "nbpresent": {
     "id": "ff342098-784a-4e20-ac34-b74ca8ebe839"
    }
   },
   "outputs": [
    {
     "data": {
      "text/plain": [
       "<matplotlib.legend.Legend at 0x29d1e6100>"
      ]
     },
     "execution_count": 12,
     "metadata": {},
     "output_type": "execute_result"
    },
    {
     "data": {
      "image/png": "[encoded data removed]",
      "text/plain": [
       "<Figure size 432x288 with 1 Axes>"
      ]
     },
     "metadata": {
      "needs_background": "light"
     },
     "output_type": "display_data"
    }
   ],
   "source": [
    "import matplotlib.pyplot as plt\n",
    "\n",
    "plt.plot(history.history['accuracy'], label='accuracy')\n",
    "plt.plot(history.history['val_accuracy'], label = 'validation accuracy')\n",
    "plt.title(\"Accuracy over 50 Epochs\")\n",
    "plt.xlabel('Epoch')\n",
    "plt.ylabel('Accuracy')\n",
    "plt.ylim([0, .65])\n",
    "plt.legend(loc='lower right')"
   ]
  },
  {
   "cell_type": "code",
   "execution_count": 15,
   "metadata": {},
   "outputs": [
    {
     "data": {
      "text/plain": [
       "<matplotlib.legend.Legend at 0x352127310>"
      ]
     },
     "execution_count": 15,
     "metadata": {},
     "output_type": "execute_result"
    },
    {
     "data": {
      "image/png": "[encoded data removed]",
      "text/plain": [
       "<Figure size 432x288 with 1 Axes>"
      ]
     },
     "metadata": {
      "needs_background": "light"
     },
     "output_type": "display_data"
    }
   ],
   "source": [
    "plt.plot(history.history['loss'], label='loss')\n",
    "plt.plot(history.history['val_loss'], label = 'validation loss')\n",
    "plt.title(\"Loss over 50 Epochs\")\n",
    "plt.xlabel('Epoch')\n",
    "plt.ylabel('Loss')\n",
    "plt.ylim([0, 10])\n",
    "plt.legend(loc='lower right')"
   ]
  },
  {
   "cell_type": "markdown",
   "metadata": {
    "nbpresent": {
     "id": "66140980-2aa4-457f-b1df-74c10c234cc2"
    }
   },
   "source": [
    "#### Testing Model"
   ]
  },
  {
   "cell_type": "code",
   "execution_count": 17,
   "metadata": {},
   "outputs": [
    {
     "name": "stdout",
     "output_type": "stream",
     "text": [
      "Found 36 images belonging to 4 classes.\n",
      "36\n",
      "36/36 [==============================] - 2s 43ms/step - loss: 7.1254 - accuracy: 0.2500\n",
      "Test loss: 7.125399112701416\n",
      "Test accuracy: 0.25\n"
     ]
    }
   ],
   "source": [
    "test_datagen = ImageDataGenerator(rescale=1. / 255)\n",
    "\n",
    "eval_generator = test_datagen.flow_from_directory(TEST_DIR,target_size=IMAGE_SIZE,\n",
    "                                                  batch_size=1,shuffle=False,seed=42,class_mode=\"categorical\")\n",
    "eval_generator.reset()\n",
    "print(len(eval_generator))\n",
    "x = model.evaluate_generator(eval_generator,steps = np.ceil(len(eval_generator)),\n",
    "                           use_multiprocessing = False,verbose = 1,workers=1)\n",
    "print('Test loss:' , x[0])\n",
    "print('Test accuracy:',x[1])"
   ]
  },
  {
   "cell_type": "markdown",
   "metadata": {
    "nbpresent": {
     "id": "66140980-2aa4-457f-b1df-74c10c234cc2"
    }
   },
   "source": [
    "## [10 points] TSNE Plot\n",
    "t-Distributed Stochastic Neighbor Embedding (t-SNE) is a widely used technique for dimensionality reduction that is particularly well suited for the visualization of high-dimensional datasets. After training is complete, extract features from a specific deep layer of your choice, use t-SNE to reduce the dimensionality of your extracted features to 2 dimensions and plot the resulting 2D features."
   ]
  },
  {
   "cell_type": "code",
   "execution_count": 21,
   "metadata": {},
   "outputs": [
    {
     "name": "stdout",
     "output_type": "stream",
     "text": [
      "Found 267 images belonging to 4 classes.\n",
      "WARNING:tensorflow:AutoGraph could not transform <function Model.make_predict_function.<locals>.predict_function at 0x14b917e50> and will run it as-is.\n",
      "Please report this to the TensorFlow team. When filing the bug, set the verbosity to 10 (on Linux, `export AUTOGRAPH_VERBOSITY=10`) and attach the full output.\n",
      "Cause: unsupported operand type(s) for -: 'NoneType' and 'int'\n",
      "To silence this warning, decorate the function with @tf.autograph.experimental.do_not_convert\n",
      "WARNING: AutoGraph could not transform <function Model.make_predict_function.<locals>.predict_function at 0x14b917e50> and will run it as-is.\n",
      "Please report this to the TensorFlow team. When filing the bug, set the verbosity to 10 (on Linux, `export AUTOGRAPH_VERBOSITY=10`) and attach the full output.\n",
      "Cause: unsupported operand type(s) for -: 'NoneType' and 'int'\n",
      "To silence this warning, decorate the function with @tf.autograph.experimental.do_not_convert\n"
     ]
    },
    {
     "name": "stderr",
     "output_type": "stream",
     "text": [
      "/Users/syipchoy/miniforge3/envs/apple_tensorflow/lib/python3.8/site-packages/sklearn/manifold/_t_sne.py:780: FutureWarning: The default initialization in TSNE will change from 'random' to 'pca' in 1.2.\n",
      "  warnings.warn(\n",
      "/Users/syipchoy/miniforge3/envs/apple_tensorflow/lib/python3.8/site-packages/sklearn/manifold/_t_sne.py:790: FutureWarning: The default learning rate in TSNE will change from 200.0 to 'auto' in 1.2.\n",
      "  warnings.warn(\n"
     ]
    }
   ],
   "source": [
    "from sklearn.manifold import TSNE\n",
    "from tensorflow.keras.models import Model\n",
    "import seaborn as sns\n",
    "import pandas as pd\n",
    "\n",
    "intermediate_layer_model = Model(inputs=model.input,\n",
    "                                        outputs=model.get_layer('dense').output)\n",
    "\n",
    "tsne_eval_generator = test_datagen.flow_from_directory(DATASET_PATH,target_size=IMAGE_SIZE,\n",
    "                                                  batch_size=1,shuffle=False,seed=42,class_mode=\"categorical\")\n",
    "\n",
    "intermediate_output = intermediate_layer_model.predict(tsne_eval_generator)\n",
    "\n",
    "tsne = TSNE(n_components=2, random_state=0)\n",
    "z = tsne.fit_transform(intermediate_output)\n",
    "\n",
    "\n",
    "#raise NotImplementedError(\"Extract features from the tsne_data_generator and fit a t-SNE model for the features,\"\n",
    "                          #\"and plot the resulting 2D features of the four classes.\")"
   ]
  },
  {
   "cell_type": "code",
   "execution_count": 77,
   "metadata": {},
   "outputs": [],
   "source": [
    "color = []\n",
    "\n",
    "def get_color(x):\n",
    "    if (x < -10): \n",
    "        return \"blue\"\n",
    "    elif (x < 0): \n",
    "        return \"red\"\n",
    "    elif (x < 10): \n",
    "        return \"yellow\"\n",
    "    else: \n",
    "        return \"green\"\n",
    "    \n",
    "for point in z[:,0]: \n",
    "    color.append(get_color(point))"
   ]
  },
  {
   "cell_type": "code",
   "execution_count": 22,
   "metadata": {},
   "outputs": [
    {
     "data": {
      "text/plain": [
       "<matplotlib.collections.PathCollection at 0x14b92f610>"
      ]
     },
     "execution_count": 22,
     "metadata": {},
     "output_type": "execute_result"
    },
    {
     "data": {
      "image/png": "[encoded data removed]",
      "text/plain": [
       "<Figure size 432x288 with 1 Axes>"
      ]
     },
     "metadata": {
      "needs_background": "light"
     },
     "output_type": "display_data"
    }
   ],
   "source": [
    "labels = tsne_eval_generator.labels\n",
    "plt.title(\"t-SNE Plot for dense layer\")\n",
    "plt.scatter(z[:,0], z[:,1], c = labels)"
   ]
  },
  {
   "cell_type": "markdown",
   "metadata": {},
   "source": [
    "<!-- ## Task 2: COVID-19 vs Normal vs Tertiary Pneumonia (Bacterial and Viral) -->"
   ]
  },
  {
   "cell_type": "markdown",
   "metadata": {
    "nbpresent": {
     "id": "66140980-2aa4-457f-b1df-74c10c234cc2"
    }
   },
   "source": [
    "<!-- #### Renew Training Batch and Validation Batch -->"
   ]
  },
  {
   "cell_type": "markdown",
   "metadata": {
    "nbpresent": {
     "id": "66140980-2aa4-457f-b1df-74c10c234cc2"
    }
   },
   "source": [
    "<!-- #### Renew Model -->"
   ]
  }
 ],
 "metadata": {
  "kernelspec": {
   "display_name": "Python 3 (ipykernel)",
   "language": "python",
   "name": "python3"
  },
  "language_info": {
   "codemirror_mode": {
    "name": "ipython",
    "version": 3
   },
   "file_extension": ".py",
   "mimetype": "text/x-python",
   "name": "python",
   "nbconvert_exporter": "python",
   "pygments_lexer": "ipython3",
   "version": "3.8.12"
  },
  "latex_envs": {
   "LaTeX_envs_menu_present": true,
   "autoclose": false,
   "autocomplete": true,
   "bibliofile": "biblio.bib",
   "cite_by": "apalike",
   "current_citInitial": 1,
   "eqLabelWithNumbers": true,
   "eqNumInitial": 1,
   "hotkeys": {
    "equation": "Ctrl-E",
    "itemize": "Ctrl-I"
   },
   "labels_anchors": false,
   "latex_user_defs": false,
   "report_style_numbering": false,
   "user_envs_cfg": false
  },
  "toc": {
   "base_numbering": 1,
   "nav_menu": {},
   "number_sections": true,
   "sideBar": true,
   "skip_h1_title": false,
   "title_cell": "Table of Contents",
   "title_sidebar": "Contents",
   "toc_cell": false,
   "toc_position": {},
   "toc_section_display": true,
   "toc_window_display": false
  },
  "varInspector": {
   "cols": {
    "lenName": 16,
    "lenType": 16,
    "lenVar": 40
   },
   "kernels_config": {
    "python": {
     "delete_cmd_postfix": "",
     "delete_cmd_prefix": "del ",
     "library": "var_list.py",
     "varRefreshCmd": "print(var_dic_list())"
    },
    "r": {
     "delete_cmd_postfix": ") ",
     "delete_cmd_prefix": "rm(",
     "library": "var_list.r",
     "varRefreshCmd": "cat(var_dic_list()) "
    }
   },
   "types_to_exclude": [
    "module",
    "function",
    "builtin_function_or_method",
    "instance",
    "_Feature"
   ],
   "window_display": false
  }
 },
 "nbformat": 4,
 "nbformat_minor": 4
}
