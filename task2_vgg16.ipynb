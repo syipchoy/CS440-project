{
 "cells": [
  {
   "cell_type": "markdown",
   "metadata": {
    "nbpresent": {
     "id": "1d234e3f-af8b-4757-83f3-241b04b7a511"
    }
   },
   "source": [
    "# Class Challenge: Image Classification of COVID-19 X-rays\n",
    "# Task 2 [Total points: 30]"
   ]
  },
  {
   "cell_type": "markdown",
   "metadata": {
    "nbpresent": {
     "id": "b07b9992-b592-4871-9f9a-3b0ae5fa8b5f"
    }
   },
   "source": [
    "## Setup\n",
    "\n",
    "* This assignment involves the following packages: 'matplotlib', 'numpy', and 'sklearn'. \n",
    "\n",
    "* If you are using conda, use the following commands to install the above packages:<br>\n",
    "```shell\n",
    "conda install matplotlib\n",
    "conda install numpy\n",
    "conda install -c anaconda scikit-learn\n",
    "```\n",
    "\n",
    "* If you are using pip, use use the following commands to install the above packages: <br> \n",
    "```shell\n",
    "pip install matplotlib\n",
    "pip install numpy\n",
    "pip install sklearn\n",
    "```"
   ]
  },
  {
   "cell_type": "markdown",
   "metadata": {
    "nbpresent": {
     "id": "5516f610-f00c-43c3-bf19-4cf7ab9c089f"
    }
   },
   "source": [
    "## Data\n",
    "\n",
    "Please download the data using the following link: [COVID-19](https://drive.google.com/file/d/1Y88tgqpQ1Pjko_7rntcPowOJs_QNOrJ-/view). \n",
    "\n",
    "* After downloading 'Covid_Data_GradientCrescent.zip', unzip the file and you should see the following data structure:\n",
    "\n",
    "\n",
    "|--all<br>\n",
    "|--------train<br>\n",
    "|--------test<br>\n",
    "|--two<br>\n",
    "|--------train<br>\n",
    "|--------test<br>\n",
    "\n",
    "\n",
    "* Put the 'all' folder, the 'two' folder and this python notebook in the **same directory** so that the following code can correctly locate the data.  \n",
    "\n"
   ]
  },
  {
   "cell_type": "markdown",
   "metadata": {
    "nbpresent": {
     "id": "66140980-2aa4-457f-b1df-74c10c234cc2"
    }
   },
   "source": [
    "## [20 points] Multi-class Classification"
   ]
  },
  {
   "cell_type": "code",
   "execution_count": 42,
   "metadata": {
    "nbpresent": {
     "id": "5e05f980-3d14-4367-b3d1-664249145b13"
    },
    "scrolled": true
   },
   "outputs": [
    {
     "data": {
      "text/plain": [
       "'2.4.0-rc0'"
      ]
     },
     "execution_count": 42,
     "metadata": {},
     "output_type": "execute_result"
    }
   ],
   "source": [
    "import os\n",
    "\n",
    "import tensorflow as tf\n",
    "import numpy as np\n",
    "import matplotlib.pyplot as plt\n",
    "from tensorflow.keras.preprocessing.image import ImageDataGenerator\n",
    "from tensorflow.keras.applications.vgg16 import VGG16\n",
    "from tensorflow.keras.layers import Dense, Activation, Flatten, DenseFeatures, Conv2D, MaxPool2D, Dropout\n",
    "from tensorflow.keras import regularizers\n",
    "\n",
    "os.environ['OMP_NUM_THREADS'] = '1'\n",
    "os.environ['CUDA_VISIBLE_DEVICES'] = '-1'\n",
    "tf.__version__"
   ]
  },
  {
   "cell_type": "markdown",
   "metadata": {
    "nbpresent": {
     "id": "66140980-2aa4-457f-b1df-74c10c234cc2"
    }
   },
   "source": [
    "#### Load Image Data"
   ]
  },
  {
   "cell_type": "code",
   "execution_count": 58,
   "metadata": {
    "nbpresent": {
     "id": "58317664-8da3-4283-b3e5-35721687e7ab"
    }
   },
   "outputs": [],
   "source": [
    "DATA_LIST = os.listdir('all/train')\n",
    "DATASET_PATH  = 'all/train'\n",
    "TEST_DIR =  'all/test'\n",
    "IMAGE_SIZE    = (224, 224)\n",
    "NUM_CLASSES   = len(DATA_LIST)\n",
    "BATCH_SIZE    = 10  # try reducing batch size or freeze more layers if your GPU runs out of memory\n",
    "NUM_EPOCHS    = 50\n",
    "LEARNING_RATE = 0.0001 # start off with high rate first 0.001 and experiment with reducing it gradually "
   ]
  },
  {
   "cell_type": "markdown",
   "metadata": {
    "nbpresent": {
     "id": "66140980-2aa4-457f-b1df-74c10c234cc2"
    }
   },
   "source": [
    "#### Generate Training and Validation Batches"
   ]
  },
  {
   "cell_type": "code",
   "execution_count": 59,
   "metadata": {
    "nbpresent": {
     "id": "71760e29-2b08-4259-93f1-ebe68cd74a6d"
    }
   },
   "outputs": [
    {
     "name": "stdout",
     "output_type": "stream",
     "text": [
      "Found 215 images belonging to 4 classes.\n",
      "Found 52 images belonging to 4 classes.\n"
     ]
    },
    {
     "name": "stderr",
     "output_type": "stream",
     "text": [
      "/Users/syipchoy/miniforge3/envs/apple_tensorflow/lib/python3.8/site-packages/keras_preprocessing/image/image_data_generator.py:342: UserWarning: This ImageDataGenerator specifies `zca_whitening` which overrides setting of`featurewise_std_normalization`.\n",
      "  warnings.warn('This ImageDataGenerator specifies '\n"
     ]
    }
   ],
   "source": [
    "train_datagen = ImageDataGenerator(rescale=1./255,rotation_range=50,featurewise_center = True,\n",
    "                                   featurewise_std_normalization = True,width_shift_range=0.2,\n",
    "                                   height_shift_range=0.2,shear_range=0.25,zoom_range=0.1,\n",
    "                                   zca_whitening = True,channel_shift_range = 20,\n",
    "                                   horizontal_flip = True,vertical_flip = True,\n",
    "                                   validation_split = 0.2,fill_mode='constant')\n",
    "\n",
    "\n",
    "train_batches = train_datagen.flow_from_directory(DATASET_PATH,target_size=IMAGE_SIZE,\n",
    "                                                  shuffle=True,batch_size=BATCH_SIZE,\n",
    "                                                  subset = \"training\",seed=42,\n",
    "                                                  class_mode=\"categorical\")\n",
    "\n",
    "valid_batches = train_datagen.flow_from_directory(DATASET_PATH,target_size=IMAGE_SIZE,\n",
    "                                                  shuffle=True,batch_size=BATCH_SIZE,\n",
    "                                                  subset = \"validation\",\n",
    "                                                  seed=42,class_mode=\"categorical\")"
   ]
  },
  {
   "cell_type": "code",
   "execution_count": 34,
   "metadata": {},
   "outputs": [
    {
     "name": "stdout",
     "output_type": "stream",
     "text": [
      "<tensorflow.python.keras.preprocessing.image.DirectoryIterator object at 0x1798273d0>\n"
     ]
    }
   ],
   "source": [
    "print(train_batches)"
   ]
  },
  {
   "cell_type": "markdown",
   "metadata": {
    "nbpresent": {
     "id": "66140980-2aa4-457f-b1df-74c10c234cc2"
    }
   },
   "source": [
    "#### [10 points] Build Model\n",
    "Hint: Starting from a pre-trained model typically helps performance on a new task, e.g. starting with weights obtained by training on ImageNet. "
   ]
  },
  {
   "cell_type": "code",
   "execution_count": 68,
   "metadata": {
    "nbpresent": {
     "id": "5c52eeb2-1092-4d45-9e16-02219c82cb5e"
    }
   },
   "outputs": [
    {
     "name": "stdout",
     "output_type": "stream",
     "text": [
      "Model: \"sequential_12\"\n",
      "_________________________________________________________________\n",
      "Layer (type)                 Output Shape              Param #   \n",
      "=================================================================\n",
      "vgg16 (Functional)           (None, 7, 7, 512)         14714688  \n",
      "_________________________________________________________________\n",
      "conv2d_14 (Conv2D)           (None, 7, 7, 32)          147488    \n",
      "_________________________________________________________________\n",
      "conv2d_15 (Conv2D)           (None, 7, 7, 32)          9248      \n",
      "_________________________________________________________________\n",
      "max_pooling2d_6 (MaxPooling2 (None, 3, 3, 32)          0         \n",
      "_________________________________________________________________\n",
      "batch_normalization_5 (Batch (None, 3, 3, 32)          128       \n",
      "_________________________________________________________________\n",
      "dropout_6 (Dropout)          (None, 3, 3, 32)          0         \n",
      "_________________________________________________________________\n",
      "conv2d_16 (Conv2D)           (None, 3, 3, 128)         36992     \n",
      "_________________________________________________________________\n",
      "conv2d_17 (Conv2D)           (None, 3, 3, 128)         147584    \n",
      "_________________________________________________________________\n",
      "max_pooling2d_7 (MaxPooling2 (None, 1, 1, 128)         0         \n",
      "_________________________________________________________________\n",
      "dropout_7 (Dropout)          (None, 1, 1, 128)         0         \n",
      "_________________________________________________________________\n",
      "flatten_11 (Flatten)         (None, 128)               0         \n",
      "_________________________________________________________________\n",
      "dense_14 (Dense)             (None, 256)               33024     \n",
      "_________________________________________________________________\n",
      "dense_15 (Dense)             (None, 4)                 1028      \n",
      "=================================================================\n",
      "Total params: 15,090,180\n",
      "Trainable params: 15,090,116\n",
      "Non-trainable params: 64\n",
      "_________________________________________________________________\n"
     ]
    }
   ],
   "source": [
    "#feature_columns = [:]\n",
    "\n",
    "\n",
    "\n",
    "\n",
    "model = tf.keras.models.Sequential()\n",
    "model.add(VGG16(weights='imagenet', input_shape=(224, 224, 3), include_top=False))\n",
    "model.add(Conv2D(32, (3,3), padding='same', activation='relu'))\n",
    "model.add(Conv2D(32, (3,3), padding='same', activation='relu'))\n",
    "model.add(MaxPool2D(pool_size=(2,2)))\n",
    "model.add(BatchNormalization())\n",
    "model.add(Dropout(0.3))\n",
    "model.add(Conv2D(128, (3,3), padding='same', activation='relu'))\n",
    "model.add(Conv2D(128, (3,3), padding='same', activation='relu'))\n",
    "model.add(MaxPool2D(pool_size=(2,2)))\n",
    "model.add(Dropout(0.3))\n",
    "model.add(Flatten())\n",
    "#model.add(DenseFeatures(feature_columns = feature_columns))\n",
    "model.add(Dense(256, activation='relu'))\n",
    "model.add(Dense(4, activation='softmax'))\n",
    "model.summary()\n",
    "\n",
    "model.compile(optimizer='adam',\n",
    "                loss=tf.keras.losses.CategoricalCrossentropy(),\n",
    "                metrics=['accuracy'])"
   ]
  },
  {
   "cell_type": "markdown",
   "metadata": {
    "nbpresent": {
     "id": "66140980-2aa4-457f-b1df-74c10c234cc2"
    }
   },
   "source": [
    "#### [5 points] Train Model"
   ]
  },
  {
   "cell_type": "code",
   "execution_count": 69,
   "metadata": {
    "nbpresent": {
     "id": "cdb90d24-6a23-4969-8138-f37e7050062d"
    }
   },
   "outputs": [
    {
     "name": "stdout",
     "output_type": "stream",
     "text": [
      "22\n",
      "6\n",
      "Epoch 1/50\n",
      "WARNING:tensorflow:AutoGraph could not transform <function Model.make_train_function.<locals>.train_function at 0x2c490ba60> and will run it as-is.\n",
      "Please report this to the TensorFlow team. When filing the bug, set the verbosity to 10 (on Linux, `export AUTOGRAPH_VERBOSITY=10`) and attach the full output.\n",
      "Cause: unsupported operand type(s) for -: 'NoneType' and 'int'\n",
      "To silence this warning, decorate the function with @tf.autograph.experimental.do_not_convert\n",
      "WARNING: AutoGraph could not transform <function Model.make_train_function.<locals>.train_function at 0x2c490ba60> and will run it as-is.\n",
      "Please report this to the TensorFlow team. When filing the bug, set the verbosity to 10 (on Linux, `export AUTOGRAPH_VERBOSITY=10`) and attach the full output.\n",
      "Cause: unsupported operand type(s) for -: 'NoneType' and 'int'\n",
      "To silence this warning, decorate the function with @tf.autograph.experimental.do_not_convert\n"
     ]
    },
    {
     "name": "stderr",
     "output_type": "stream",
     "text": [
      "/Users/syipchoy/miniforge3/envs/apple_tensorflow/lib/python3.8/site-packages/keras_preprocessing/image/image_data_generator.py:720: UserWarning: This ImageDataGenerator specifies `featurewise_center`, but it hasn't been fit on any training data. Fit it first by calling `.fit(numpy_data)`.\n",
      "  warnings.warn('This ImageDataGenerator specifies '\n",
      "/Users/syipchoy/miniforge3/envs/apple_tensorflow/lib/python3.8/site-packages/keras_preprocessing/image/image_data_generator.py:739: UserWarning: This ImageDataGenerator specifies `zca_whitening`, but it hasn't been fit on any training data. Fit it first by calling `.fit(numpy_data)`.\n",
      "  warnings.warn('This ImageDataGenerator specifies '\n"
     ]
    },
    {
     "name": "stdout",
     "output_type": "stream",
     "text": [
      "21/21 [==============================] - ETA: 0s - loss: 1.4171 - accuracy: 0.2866WARNING:tensorflow:AutoGraph could not transform <function Model.make_test_function.<locals>.test_function at 0x2c4912e50> and will run it as-is.\n",
      "Please report this to the TensorFlow team. When filing the bug, set the verbosity to 10 (on Linux, `export AUTOGRAPH_VERBOSITY=10`) and attach the full output.\n",
      "Cause: unsupported operand type(s) for -: 'NoneType' and 'int'\n",
      "To silence this warning, decorate the function with @tf.autograph.experimental.do_not_convert\n",
      "WARNING: AutoGraph could not transform <function Model.make_test_function.<locals>.test_function at 0x2c4912e50> and will run it as-is.\n",
      "Please report this to the TensorFlow team. When filing the bug, set the verbosity to 10 (on Linux, `export AUTOGRAPH_VERBOSITY=10`) and attach the full output.\n",
      "Cause: unsupported operand type(s) for -: 'NoneType' and 'int'\n",
      "To silence this warning, decorate the function with @tf.autograph.experimental.do_not_convert\n",
      "21/21 [==============================] - 45s 2s/step - loss: 1.4174 - accuracy: 0.2864 - val_loss: 32.9200 - val_accuracy: 0.2600\n",
      "Epoch 2/50\n",
      "21/21 [==============================] - 45s 2s/step - loss: 1.4283 - accuracy: 0.3413 - val_loss: 27.2496 - val_accuracy: 0.2600\n",
      "Epoch 3/50\n",
      "21/21 [==============================] - 48s 2s/step - loss: 1.2027 - accuracy: 0.4155 - val_loss: 7.7612 - val_accuracy: 0.2600\n",
      "Epoch 4/50\n",
      "21/21 [==============================] - 50s 2s/step - loss: 1.1555 - accuracy: 0.4510 - val_loss: 29.8463 - val_accuracy: 0.2600\n",
      "Epoch 5/50\n",
      "21/21 [==============================] - 51s 2s/step - loss: 1.1660 - accuracy: 0.3738 - val_loss: 30.6549 - val_accuracy: 0.2600\n",
      "Epoch 6/50\n",
      "21/21 [==============================] - 51s 2s/step - loss: 1.0991 - accuracy: 0.4878 - val_loss: 24.8337 - val_accuracy: 0.2600\n",
      "Epoch 7/50\n",
      "21/21 [==============================] - 53s 3s/step - loss: 1.1748 - accuracy: 0.4337 - val_loss: 14.3749 - val_accuracy: 0.2600\n",
      "Epoch 8/50\n",
      "21/21 [==============================] - 53s 3s/step - loss: 1.2411 - accuracy: 0.3847 - val_loss: 9.5716 - val_accuracy: 0.2400\n",
      "Epoch 9/50\n",
      "21/21 [==============================] - 53s 3s/step - loss: 1.1457 - accuracy: 0.4099 - val_loss: 2.7871 - val_accuracy: 0.2800\n",
      "Epoch 10/50\n",
      "21/21 [==============================] - 53s 3s/step - loss: 1.1778 - accuracy: 0.4757 - val_loss: 17.8246 - val_accuracy: 0.2600\n",
      "Epoch 11/50\n",
      "21/21 [==============================] - 55s 3s/step - loss: 1.2309 - accuracy: 0.3562 - val_loss: 14.8056 - val_accuracy: 0.2600\n",
      "Epoch 12/50\n",
      "21/21 [==============================] - 53s 3s/step - loss: 1.2541 - accuracy: 0.4601 - val_loss: 3.7143 - val_accuracy: 0.2600\n",
      "Epoch 13/50\n",
      "21/21 [==============================] - 54s 3s/step - loss: 1.1533 - accuracy: 0.4347 - val_loss: 14.6308 - val_accuracy: 0.2600\n",
      "Epoch 14/50\n",
      "21/21 [==============================] - 55s 3s/step - loss: 1.1007 - accuracy: 0.4793 - val_loss: 11.4911 - val_accuracy: 0.2400\n",
      "Epoch 15/50\n",
      "21/21 [==============================] - 56s 3s/step - loss: 1.0954 - accuracy: 0.4771 - val_loss: 2.8635 - val_accuracy: 0.2400\n",
      "Epoch 16/50\n",
      "21/21 [==============================] - 54s 3s/step - loss: 1.1015 - accuracy: 0.5170 - val_loss: 6.5762 - val_accuracy: 0.2400\n",
      "Epoch 17/50\n",
      "21/21 [==============================] - 54s 3s/step - loss: 1.1525 - accuracy: 0.4352 - val_loss: 5.0161 - val_accuracy: 0.2600\n",
      "Epoch 18/50\n",
      "21/21 [==============================] - 54s 3s/step - loss: 1.1036 - accuracy: 0.4379 - val_loss: 1.2433 - val_accuracy: 0.4400\n",
      "Epoch 19/50\n",
      "21/21 [==============================] - 55s 3s/step - loss: 1.1651 - accuracy: 0.5063 - val_loss: 7.6712 - val_accuracy: 0.2600\n",
      "Epoch 20/50\n",
      "21/21 [==============================] - 55s 3s/step - loss: 1.1108 - accuracy: 0.4301 - val_loss: 3.9198 - val_accuracy: 0.2600\n",
      "Epoch 21/50\n",
      "21/21 [==============================] - 57s 3s/step - loss: 1.1259 - accuracy: 0.4580 - val_loss: 2.5596 - val_accuracy: 0.2600\n",
      "Epoch 22/50\n",
      "21/21 [==============================] - 57s 3s/step - loss: 1.3307 - accuracy: 0.4031 - val_loss: 6.0796 - val_accuracy: 0.2400\n",
      "Epoch 23/50\n",
      "21/21 [==============================] - 58s 3s/step - loss: 1.1377 - accuracy: 0.4482 - val_loss: 3.8270 - val_accuracy: 0.2600\n",
      "Epoch 24/50\n",
      "21/21 [==============================] - 55s 3s/step - loss: 1.4123 - accuracy: 0.3677 - val_loss: 1.8135 - val_accuracy: 0.2600\n",
      "Epoch 25/50\n",
      "21/21 [==============================] - 56s 3s/step - loss: 1.0467 - accuracy: 0.4783 - val_loss: 1.9754 - val_accuracy: 0.2800\n",
      "Epoch 26/50\n",
      "21/21 [==============================] - 55s 3s/step - loss: 1.0801 - accuracy: 0.4295 - val_loss: 0.9509 - val_accuracy: 0.4600\n",
      "Epoch 27/50\n",
      "21/21 [==============================] - 54s 3s/step - loss: 1.2037 - accuracy: 0.3914 - val_loss: 1.1229 - val_accuracy: 0.4200\n",
      "Epoch 28/50\n",
      "21/21 [==============================] - 600s 30s/step - loss: 1.0831 - accuracy: 0.4864 - val_loss: 2.4249 - val_accuracy: 0.2600\n",
      "Epoch 29/50\n",
      "21/21 [==============================] - 270s 13s/step - loss: 1.1647 - accuracy: 0.3872 - val_loss: 1.7895 - val_accuracy: 0.3600\n",
      "Epoch 30/50\n",
      "21/21 [==============================] - 45s 2s/step - loss: 1.0737 - accuracy: 0.5178 - val_loss: 1.7748 - val_accuracy: 0.3800\n",
      "Epoch 31/50\n",
      "21/21 [==============================] - 48s 2s/step - loss: 1.1378 - accuracy: 0.4654 - val_loss: 2.2475 - val_accuracy: 0.2400\n",
      "Epoch 32/50\n",
      "21/21 [==============================] - 51s 2s/step - loss: 1.0713 - accuracy: 0.4443 - val_loss: 2.5573 - val_accuracy: 0.2400\n",
      "Epoch 33/50\n",
      "21/21 [==============================] - 52s 2s/step - loss: 1.1386 - accuracy: 0.4296 - val_loss: 1.0111 - val_accuracy: 0.4800\n",
      "Epoch 34/50\n",
      "21/21 [==============================] - 52s 3s/step - loss: 1.0907 - accuracy: 0.5127 - val_loss: 1.3752 - val_accuracy: 0.3000\n",
      "Epoch 35/50\n",
      "21/21 [==============================] - 53s 3s/step - loss: 1.1828 - accuracy: 0.4522 - val_loss: 2.0117 - val_accuracy: 0.3000\n",
      "Epoch 36/50\n",
      "21/21 [==============================] - 53s 3s/step - loss: 1.0366 - accuracy: 0.5028 - val_loss: 1.5270 - val_accuracy: 0.2800\n",
      "Epoch 37/50\n",
      "21/21 [==============================] - 56s 3s/step - loss: 1.2111 - accuracy: 0.3743 - val_loss: 0.9437 - val_accuracy: 0.6000\n",
      "Epoch 38/50\n",
      "21/21 [==============================] - 56s 3s/step - loss: 1.1115 - accuracy: 0.4335 - val_loss: 1.3460 - val_accuracy: 0.3600\n",
      "Epoch 39/50\n",
      "21/21 [==============================] - 59s 3s/step - loss: 1.0612 - accuracy: 0.4862 - val_loss: 0.9521 - val_accuracy: 0.5400\n",
      "Epoch 40/50\n",
      "21/21 [==============================] - 56s 3s/step - loss: 1.1503 - accuracy: 0.4562 - val_loss: 0.9976 - val_accuracy: 0.4600\n",
      "Epoch 41/50\n",
      "21/21 [==============================] - 56s 3s/step - loss: 1.0441 - accuracy: 0.5515 - val_loss: 1.0675 - val_accuracy: 0.3600\n",
      "Epoch 42/50\n",
      "21/21 [==============================] - 56s 3s/step - loss: 1.1064 - accuracy: 0.4663 - val_loss: 1.8819 - val_accuracy: 0.3000\n",
      "Epoch 43/50\n",
      "21/21 [==============================] - 56s 3s/step - loss: 1.0969 - accuracy: 0.4939 - val_loss: 0.9454 - val_accuracy: 0.4600\n",
      "Epoch 44/50\n",
      "21/21 [==============================] - 57s 3s/step - loss: 1.1469 - accuracy: 0.4431 - val_loss: 1.2680 - val_accuracy: 0.4600\n",
      "Epoch 45/50\n",
      "21/21 [==============================] - 58s 3s/step - loss: 1.0197 - accuracy: 0.4993 - val_loss: 7.1196 - val_accuracy: 0.2400\n",
      "Epoch 46/50\n",
      "21/21 [==============================] - 56s 3s/step - loss: 1.0870 - accuracy: 0.4583 - val_loss: 3.2571 - val_accuracy: 0.2800\n",
      "Epoch 47/50\n",
      "21/21 [==============================] - 58s 3s/step - loss: 1.0747 - accuracy: 0.4322 - val_loss: 1.1319 - val_accuracy: 0.3600\n",
      "Epoch 48/50\n",
      "21/21 [==============================] - 59s 3s/step - loss: 1.1130 - accuracy: 0.5244 - val_loss: 3.8478 - val_accuracy: 0.2800\n",
      "Epoch 49/50\n",
      "21/21 [==============================] - 64s 3s/step - loss: 0.9731 - accuracy: 0.5747 - val_loss: 2.3111 - val_accuracy: 0.2600\n",
      "Epoch 50/50\n",
      "21/21 [==============================] - 68s 3s/step - loss: 1.0154 - accuracy: 0.5629 - val_loss: 0.9175 - val_accuracy: 0.4600\n"
     ]
    }
   ],
   "source": [
    "#FIT MODEL\n",
    "print(len(train_batches))\n",
    "print(len(valid_batches))\n",
    "\n",
    "STEP_SIZE_TRAIN=train_batches.n//train_batches.batch_size\n",
    "STEP_SIZE_VALID=valid_batches.n//valid_batches.batch_size\n",
    "\n",
    "history = model.fit(train_batches, steps_per_epoch=STEP_SIZE_TRAIN, validation_data = valid_batches, \n",
    "                             validation_steps = STEP_SIZE_VALID, epochs = NUM_EPOCHS)"
   ]
  },
  {
   "cell_type": "markdown",
   "metadata": {
    "nbpresent": {
     "id": "66140980-2aa4-457f-b1df-74c10c234cc2"
    }
   },
   "source": [
    "#### [5 points] Plot Accuracy and Loss During Training"
   ]
  },
  {
   "cell_type": "code",
   "execution_count": 70,
   "metadata": {
    "nbpresent": {
     "id": "ff342098-784a-4e20-ac34-b74ca8ebe839"
    }
   },
   "outputs": [
    {
     "data": {
      "text/plain": [
       "<matplotlib.legend.Legend at 0x17f3bf640>"
      ]
     },
     "execution_count": 70,
     "metadata": {},
     "output_type": "execute_result"
    },
    {
     "data": {
      "image/png": "[encoded data removed]",
      "text/plain": [
       "<Figure size 432x288 with 1 Axes>"
      ]
     },
     "metadata": {
      "needs_background": "light"
     },
     "output_type": "display_data"
    }
   ],
   "source": [
    "import matplotlib.pyplot as plt\n",
    "\n",
    "plt.plot(history.history['accuracy'], label='accuracy')\n",
    "plt.plot(history.history['val_accuracy'], label = 'validation accuracy')\n",
    "plt.title(\"Accuracy over 50 Epochs\")\n",
    "plt.xlabel('Epoch')\n",
    "plt.ylabel('Accuracy')\n",
    "plt.ylim([0, .65])\n",
    "plt.legend(loc='lower right')"
   ]
  },
  {
   "cell_type": "code",
   "execution_count": 71,
   "metadata": {},
   "outputs": [
    {
     "data": {
      "text/plain": [
       "<matplotlib.legend.Legend at 0x17f5721c0>"
      ]
     },
     "execution_count": 71,
     "metadata": {},
     "output_type": "execute_result"
    },
    {
     "data": {
      "image/png": "[encoded data removed]",
      "text/plain": [
       "<Figure size 432x288 with 1 Axes>"
      ]
     },
     "metadata": {
      "needs_background": "light"
     },
     "output_type": "display_data"
    }
   ],
   "source": [
    "plt.plot(history.history['loss'], label='loss')\n",
    "plt.plot(history.history['val_loss'], label = 'validation loss')\n",
    "plt.title(\"Loss over 50 Epochs\")\n",
    "plt.xlabel('Epoch')\n",
    "plt.ylabel('Loss')\n",
    "plt.ylim([0, 20])\n",
    "plt.legend(loc='lower right')"
   ]
  },
  {
   "cell_type": "markdown",
   "metadata": {
    "nbpresent": {
     "id": "66140980-2aa4-457f-b1df-74c10c234cc2"
    }
   },
   "source": [
    "#### Testing Model"
   ]
  },
  {
   "cell_type": "code",
   "execution_count": 72,
   "metadata": {},
   "outputs": [
    {
     "name": "stdout",
     "output_type": "stream",
     "text": [
      "Found 36 images belonging to 4 classes.\n",
      "36\n",
      "\r",
      " 1/36 [..............................] - ETA: 2s - loss: 1.2941 - accuracy: 0.0000e+00"
     ]
    },
    {
     "name": "stderr",
     "output_type": "stream",
     "text": [
      "/Users/syipchoy/miniforge3/envs/apple_tensorflow/lib/python3.8/site-packages/tensorflow/python/keras/engine/training.py:1877: UserWarning: `Model.evaluate_generator` is deprecated and will be removed in a future version. Please use `Model.evaluate`, which supports generators.\n",
      "  warnings.warn('`Model.evaluate_generator` is deprecated and '\n"
     ]
    },
    {
     "name": "stdout",
     "output_type": "stream",
     "text": [
      "36/36 [==============================] - 2s 42ms/step - loss: 1.2726 - accuracy: 0.4167\n",
      "Test loss: 1.2726104259490967\n",
      "Test accuracy: 0.4166666567325592\n"
     ]
    }
   ],
   "source": [
    "test_datagen = ImageDataGenerator(rescale=1. / 255)\n",
    "\n",
    "eval_generator = test_datagen.flow_from_directory(TEST_DIR,target_size=IMAGE_SIZE,\n",
    "                                                  batch_size=1,shuffle=False,seed=42,class_mode=\"categorical\")\n",
    "eval_generator.reset()\n",
    "print(len(eval_generator))\n",
    "x = model.evaluate_generator(eval_generator,steps = np.ceil(len(eval_generator)),\n",
    "                           use_multiprocessing = False,verbose = 1,workers=1)\n",
    "print('Test loss:' , x[0])\n",
    "print('Test accuracy:',x[1])"
   ]
  },
  {
   "cell_type": "markdown",
   "metadata": {
    "nbpresent": {
     "id": "66140980-2aa4-457f-b1df-74c10c234cc2"
    }
   },
   "source": [
    "## [10 points] TSNE Plot\n",
    "t-Distributed Stochastic Neighbor Embedding (t-SNE) is a widely used technique for dimensionality reduction that is particularly well suited for the visualization of high-dimensional datasets. After training is complete, extract features from a specific deep layer of your choice, use t-SNE to reduce the dimensionality of your extracted features to 2 dimensions and plot the resulting 2D features."
   ]
  },
  {
   "cell_type": "code",
   "execution_count": 73,
   "metadata": {},
   "outputs": [
    {
     "name": "stdout",
     "output_type": "stream",
     "text": [
      "Found 267 images belonging to 4 classes.\n",
      "WARNING:tensorflow:AutoGraph could not transform <function Model.make_predict_function.<locals>.predict_function at 0x17fd04700> and will run it as-is.\n",
      "Please report this to the TensorFlow team. When filing the bug, set the verbosity to 10 (on Linux, `export AUTOGRAPH_VERBOSITY=10`) and attach the full output.\n",
      "Cause: unsupported operand type(s) for -: 'NoneType' and 'int'\n",
      "To silence this warning, decorate the function with @tf.autograph.experimental.do_not_convert\n",
      "WARNING: AutoGraph could not transform <function Model.make_predict_function.<locals>.predict_function at 0x17fd04700> and will run it as-is.\n",
      "Please report this to the TensorFlow team. When filing the bug, set the verbosity to 10 (on Linux, `export AUTOGRAPH_VERBOSITY=10`) and attach the full output.\n",
      "Cause: unsupported operand type(s) for -: 'NoneType' and 'int'\n",
      "To silence this warning, decorate the function with @tf.autograph.experimental.do_not_convert\n"
     ]
    },
    {
     "name": "stderr",
     "output_type": "stream",
     "text": [
      "/Users/syipchoy/miniforge3/envs/apple_tensorflow/lib/python3.8/site-packages/sklearn/manifold/_t_sne.py:780: FutureWarning: The default initialization in TSNE will change from 'random' to 'pca' in 1.2.\n",
      "  warnings.warn(\n",
      "/Users/syipchoy/miniforge3/envs/apple_tensorflow/lib/python3.8/site-packages/sklearn/manifold/_t_sne.py:790: FutureWarning: The default learning rate in TSNE will change from 200.0 to 'auto' in 1.2.\n",
      "  warnings.warn(\n"
     ]
    }
   ],
   "source": [
    "from sklearn.manifold import TSNE\n",
    "from tensorflow.keras.models import Model\n",
    "import seaborn as sns\n",
    "import pandas as pd\n",
    "\n",
    "intermediate_layer_model = Model(inputs=model.input,\n",
    "                                        outputs=model.get_layer('dense_14').output)\n",
    "\n",
    "tsne_eval_generator = test_datagen.flow_from_directory(DATASET_PATH,target_size=IMAGE_SIZE,\n",
    "                                                  batch_size=1,shuffle=True,seed=42,class_mode=\"categorical\")\n",
    "\n",
    "intermediate_output = intermediate_layer_model.predict(tsne_eval_generator)\n",
    "\n",
    "tsne = TSNE(n_components=2, random_state=0)\n",
    "z = tsne.fit_transform(intermediate_output)\n",
    "\n",
    "\n",
    "#raise NotImplementedError(\"Extract features from the tsne_data_generator and fit a t-SNE model for the features,\"\n",
    "                          #\"and plot the resulting 2D features of the four classes.\")"
   ]
  },
  {
   "cell_type": "code",
   "execution_count": 77,
   "metadata": {},
   "outputs": [],
   "source": [
    "color = []\n",
    "\n",
    "def get_color(x):\n",
    "    if (x < -10): \n",
    "        return \"blue\"\n",
    "    elif (x < 0): \n",
    "        return \"red\"\n",
    "    elif (x < 10): \n",
    "        return \"yellow\"\n",
    "    else: \n",
    "        return \"green\"\n",
    "    \n",
    "for point in z[:,0]: \n",
    "    color.append(get_color(point))"
   ]
  },
  {
   "cell_type": "code",
   "execution_count": 79,
   "metadata": {},
   "outputs": [
    {
     "data": {
      "text/plain": [
       "<matplotlib.collections.PathCollection at 0x2967d3ca0>"
      ]
     },
     "execution_count": 79,
     "metadata": {},
     "output_type": "execute_result"
    },
    {
     "data": {
      "image/png": "[encoded data removed]",
      "text/plain": [
       "<Figure size 432x288 with 1 Axes>"
      ]
     },
     "metadata": {
      "needs_background": "light"
     },
     "output_type": "display_data"
    }
   ],
   "source": [
    "plt.title(\"t-SNE Plot for dense layer\")\n",
    "plt.scatter(z[:,0], z[:,1], c = color)"
   ]
  },
  {
   "cell_type": "markdown",
   "metadata": {},
   "source": [
    "<!-- ## Task 2: COVID-19 vs Normal vs Tertiary Pneumonia (Bacterial and Viral) -->"
   ]
  },
  {
   "cell_type": "markdown",
   "metadata": {
    "nbpresent": {
     "id": "66140980-2aa4-457f-b1df-74c10c234cc2"
    }
   },
   "source": [
    "<!-- #### Renew Training Batch and Validation Batch -->"
   ]
  },
  {
   "cell_type": "markdown",
   "metadata": {
    "nbpresent": {
     "id": "66140980-2aa4-457f-b1df-74c10c234cc2"
    }
   },
   "source": [
    "<!-- #### Renew Model -->"
   ]
  }
 ],
 "metadata": {
  "kernelspec": {
   "display_name": "Python 3 (ipykernel)",
   "language": "python",
   "name": "python3"
  },
  "language_info": {
   "codemirror_mode": {
    "name": "ipython",
    "version": 3
   },
   "file_extension": ".py",
   "mimetype": "text/x-python",
   "name": "python",
   "nbconvert_exporter": "python",
   "pygments_lexer": "ipython3",
   "version": "3.8.12"
  },
  "latex_envs": {
   "LaTeX_envs_menu_present": true,
   "autoclose": false,
   "autocomplete": true,
   "bibliofile": "biblio.bib",
   "cite_by": "apalike",
   "current_citInitial": 1,
   "eqLabelWithNumbers": true,
   "eqNumInitial": 1,
   "hotkeys": {
    "equation": "Ctrl-E",
    "itemize": "Ctrl-I"
   },
   "labels_anchors": false,
   "latex_user_defs": false,
   "report_style_numbering": false,
   "user_envs_cfg": false
  },
  "toc": {
   "base_numbering": 1,
   "nav_menu": {},
   "number_sections": true,
   "sideBar": true,
   "skip_h1_title": false,
   "title_cell": "Table of Contents",
   "title_sidebar": "Contents",
   "toc_cell": false,
   "toc_position": {},
   "toc_section_display": true,
   "toc_window_display": false
  },
  "varInspector": {
   "cols": {
    "lenName": 16,
    "lenType": 16,
    "lenVar": 40
   },
   "kernels_config": {
    "python": {
     "delete_cmd_postfix": "",
     "delete_cmd_prefix": "del ",
     "library": "var_list.py",
     "varRefreshCmd": "print(var_dic_list())"
    },
    "r": {
     "delete_cmd_postfix": ") ",
     "delete_cmd_prefix": "rm(",
     "library": "var_list.r",
     "varRefreshCmd": "cat(var_dic_list()) "
    }
   },
   "types_to_exclude": [
    "module",
    "function",
    "builtin_function_or_method",
    "instance",
    "_Feature"
   ],
   "window_display": false
  }
 },
 "nbformat": 4,
 "nbformat_minor": 4
}
